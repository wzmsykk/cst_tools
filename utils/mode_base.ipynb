{
 "metadata": {
  "language_info": {
   "codemirror_mode": {
    "name": "ipython",
    "version": 3
   },
   "file_extension": ".py",
   "mimetype": "text/x-python",
   "name": "python",
   "nbconvert_exporter": "python",
   "pygments_lexer": "ipython3",
   "version": "3.8.8"
  },
  "orig_nbformat": 2,
  "kernelspec": {
   "name": "python388jvsc74a57bd0e165b09521aab53f7a117284bb1e342bcb3716f1fb15f286e47ec08970eb9d25",
   "display_name": "Python 3.8.8 64-bit ('tf_gpu': conda)"
  }
 },
 "nbformat": 4,
 "nbformat_minor": 2,
 "cells": [
  {
   "cell_type": "code",
   "execution_count": 5,
   "metadata": {},
   "outputs": [
    {
     "output_type": "stream",
     "name": "stdout",
     "text": [
      "MODE:1\tType:TM\tFreq:501.05969\tTEMCoff:601.541424\tcustType:TM\nMODE:2\tType:TE\tFreq:694.34861\tTEMCoff:0.009895\tcustType:TE\nMODE:3\tType:TM\tFreq:765.51723\tTEMCoff:261.260337\tcustType:TM\nMODE:4\tType:TM\tFreq:798.36047\tTEMCoff:300.389619\tcustType:TM\nMODE:5\tType:TE\tFreq:860.18881\tTEMCoff:0.010781\tcustType:TE\nMODE:6\tType:HX\tFreq:986.07485\tTEMCoff:0.202074\tcustType:TE\nMODE:7\tType:TE\tFreq:1049.3828\tTEMCoff:0.014428\tcustType:TE\nMODE:8\tType:TM\tFreq:1070.0409\tTEMCoff:227.347839\tcustType:TM\nMODE:9\tType:TM\tFreq:1150.1502\tTEMCoff:242.315867\tcustType:TM\nMODE:10\tType:TM\tFreq:1216.5369\tTEMCoff:209.942773\tcustType:TM\nMODE:11\tType:TE\tFreq:1219.4226\tTEMCoff:0.046883\tcustType:TE\nMODE:12\tType:TE\tFreq:1250.0101\tTEMCoff:0.009287\tcustType:TE\nMODE:13\tType:TE\tFreq:1252.571\tTEMCoff:0.006689\tcustType:TE\nMODE:14\tType:TM\tFreq:1261.3083\tTEMCoff:59.306601\tcustType:TM\nMODE:15\tType:TM\tFreq:1287.5669\tTEMCoff:211.102726\tcustType:TM\nMODE:16\tType:TE\tFreq:1320.9131\tTEMCoff:0.027501\tcustType:TE\nMODE:17\tType:TM\tFreq:1329.3536\tTEMCoff:172.110609\tcustType:TM\nMODE:18\tType:TE\tFreq:1406.1385\tTEMCoff:0.040540\tcustType:TE\nMODE:19\tType:TM\tFreq:1449.8839\tTEMCoff:140.546764\tcustType:TM\nMODE:20\tType:TE\tFreq:1451.2337\tTEMCoff:0.024061\tcustType:TE\nMODE:21\tType:TE\tFreq:1456.6584\tTEMCoff:0.008132\tcustType:TE\nMODE:22\tType:TM\tFreq:1461.7671\tTEMCoff:94.410700\tcustType:TM\nMODE:23\tType:TE\tFreq:1512.3974\tTEMCoff:0.009167\tcustType:TE\nMODE:24\tType:TE\tFreq:1572.1633\tTEMCoff:0.034815\tcustType:TE\nMODE:25\tType:TM\tFreq:1576.3396\tTEMCoff:140.314078\tcustType:TM\nMODE:26\tType:TM\tFreq:1581.0911\tTEMCoff:173.340330\tcustType:TM\nMODE:27\tType:TE\tFreq:1602.3123\tTEMCoff:0.017603\tcustType:TE\nMODE:28\tType:TE\tFreq:1604.3209\tTEMCoff:0.016592\tcustType:TE\nMODE:29\tType:TM\tFreq:1631.7825\tTEMCoff:200.504561\tcustType:TM\nMODE:30\tType:TE\tFreq:1666.6671\tTEMCoff:0.007212\tcustType:TE\nMODE:31\tType:TM\tFreq:1683.6892\tTEMCoff:202.482277\tcustType:TM\nMODE:32\tType:TM\tFreq:1753.8194\tTEMCoff:100.778030\tcustType:TM\nMODE:33\tType:TM\tFreq:1762.6964\tTEMCoff:88.142025\tcustType:TM\nMODE:34\tType:TE\tFreq:1767.488\tTEMCoff:0.010256\tcustType:TE\nMODE:35\tType:TE\tFreq:1778.1534\tTEMCoff:0.082930\tcustType:TE\nMODE:36\tType:TM\tFreq:1803.0876\tTEMCoff:267.832590\tcustType:TM\nMODE:37\tType:TM\tFreq:1807.1287\tTEMCoff:49.851799\tcustType:TM\nMODE:38\tType:TE\tFreq:1814.4534\tTEMCoff:0.018815\tcustType:TE\nMODE:39\tType:TM\tFreq:1827.6177\tTEMCoff:110.540486\tcustType:TM\nMODE:40\tType:TM\tFreq:1846.8378\tTEMCoff:178.504078\tcustType:TM\nMODE:41\tType:TE\tFreq:1849.2377\tTEMCoff:0.059788\tcustType:TE\nMODE:42\tType:TE\tFreq:1864.5818\tTEMCoff:0.108869\tcustType:TE\nMODE:43\tType:TE\tFreq:1870.4108\tTEMCoff:0.006704\tcustType:TE\nMODE:44\tType:TE\tFreq:1878.6504\tTEMCoff:0.009360\tcustType:TE\nMODE:45\tType:TM\tFreq:1893.715\tTEMCoff:170.683956\tcustType:TM\nMODE:46\tType:HX\tFreq:1911.0372\tTEMCoff:1.066851\tcustType:HX\nMODE:47\tType:TM\tFreq:1917.0624\tTEMCoff:181.583025\tcustType:TM\nMODE:48\tType:TE\tFreq:1944.4749\tTEMCoff:0.050063\tcustType:TE\nMODE:49\tType:TM\tFreq:1959.5489\tTEMCoff:97.605497\tcustType:TM\nMODE:50\tType:TE\tFreq:2018.8084\tTEMCoff:0.009328\tcustType:TE\nMODE:51\tType:TE\tFreq:2031.9723\tTEMCoff:0.013347\tcustType:TE\nMODE:52\tType:TM\tFreq:2033.8025\tTEMCoff:135.729151\tcustType:TM\nMODE:53\tType:TM\tFreq:2039.5299\tTEMCoff:77.924487\tcustType:TM\nMODE:54\tType:TE\tFreq:2059.6698\tTEMCoff:0.025224\tcustType:TE\nMODE:55\tType:TE\tFreq:2061.2267\tTEMCoff:0.028436\tcustType:TE\nMODE:56\tType:TM\tFreq:2070.2826\tTEMCoff:147.501992\tcustType:TM\nMODE:57\tType:TM\tFreq:2082.6768\tTEMCoff:127.105891\tcustType:TM\nMODE:58\tType:TE\tFreq:2091.7842\tTEMCoff:0.009380\tcustType:TE\nMODE:59\tType:TM\tFreq:2101.4005\tTEMCoff:104.565498\tcustType:TM\nMODE:60\tType:TM\tFreq:2114.5575\tTEMCoff:92.419022\tcustType:TM\nMODE:61\tType:TM\tFreq:2119.7445\tTEMCoff:205.205071\tcustType:TM\nMODE:62\tType:TE\tFreq:2122.1046\tTEMCoff:0.010440\tcustType:TE\nMODE:63\tType:TE\tFreq:2129.3624\tTEMCoff:0.017178\tcustType:TE\nMODE:64\tType:TM\tFreq:2142.7035\tTEMCoff:164.160804\tcustType:TM\nMODE:65\tType:TM\tFreq:2149.6536\tTEMCoff:166.291043\tcustType:TM\nMODE:66\tType:TE\tFreq:2156.3476\tTEMCoff:0.007471\tcustType:TE\nMODE:67\tType:TM\tFreq:2163.3494\tTEMCoff:152.862348\tcustType:TM\nMODE:68\tType:TM\tFreq:2186.7685\tTEMCoff:62.254003\tcustType:TM\nMODE:69\tType:TE\tFreq:2191.2475\tTEMCoff:0.024736\tcustType:TE\nMODE:70\tType:TE\tFreq:2197.334\tTEMCoff:0.018978\tcustType:TE\nMODE:71\tType:TE\tFreq:2228.7155\tTEMCoff:0.032931\tcustType:TE\nMODE:72\tType:TE\tFreq:2253.9999\tTEMCoff:0.014578\tcustType:TE\nMODE:73\tType:TE\tFreq:2267.0248\tTEMCoff:0.010161\tcustType:TE\nMODE:74\tType:HX\tFreq:2269.7229\tTEMCoff:0.241556\tcustType:TE\nMODE:75\tType:TM\tFreq:2305.4842\tTEMCoff:90.539485\tcustType:TM\nMODE:76\tType:TM\tFreq:2309.9497\tTEMCoff:116.891212\tcustType:TM\nMODE:77\tType:TE\tFreq:2319.5772\tTEMCoff:0.010670\tcustType:TE\nMODE:78\tType:TE\tFreq:2336.1286\tTEMCoff:0.023450\tcustType:TE\nMODE:79\tType:TM\tFreq:2340.1702\tTEMCoff:90.298366\tcustType:TM\nMODE:80\tType:TE\tFreq:2346.6141\tTEMCoff:0.117206\tcustType:TE\nMODE:81\tType:TM\tFreq:2348.3143\tTEMCoff:89.283171\tcustType:TM\nMODE:82\tType:TM\tFreq:2368.6426\tTEMCoff:32.346816\tcustType:TM\nMODE:83\tType:TM\tFreq:2371.9019\tTEMCoff:159.526389\tcustType:TM\nMODE:84\tType:TM\tFreq:2376.9814\tTEMCoff:118.371637\tcustType:TM\nMODE:85\tType:TE\tFreq:2377.9946\tTEMCoff:0.018728\tcustType:TE\nMODE:86\tType:TM\tFreq:2381.3572\tTEMCoff:83.934973\tcustType:TM\nMODE:87\tType:TE\tFreq:2400.9268\tTEMCoff:0.070481\tcustType:TE\nMODE:88\tType:TE\tFreq:2409.0911\tTEMCoff:0.022427\tcustType:TE\nMODE:89\tType:TM\tFreq:2415.2059\tTEMCoff:25.217078\tcustType:TM\nMODE:90\tType:TM\tFreq:2421.1433\tTEMCoff:71.708562\tcustType:TM\nMODE:91\tType:TE\tFreq:2433.8526\tTEMCoff:0.010394\tcustType:TE\nMODE:92\tType:TE\tFreq:2448.8492\tTEMCoff:0.083698\tcustType:TE\nMODE:93\tType:TM\tFreq:2456.9009\tTEMCoff:156.554422\tcustType:TM\nMODE:94\tType:TM\tFreq:2467.9366\tTEMCoff:91.347117\tcustType:TM\nMODE:95\tType:TE\tFreq:2475.0528\tTEMCoff:0.076180\tcustType:TE\nMODE:96\tType:TE\tFreq:2478.7787\tTEMCoff:0.012446\tcustType:TE\nMODE:97\tType:TE\tFreq:2485.6032\tTEMCoff:0.021102\tcustType:TE\nMODE:98\tType:TM\tFreq:2489.3237\tTEMCoff:120.462128\tcustType:TM\nMODE:99\tType:TE\tFreq:2491.7903\tTEMCoff:0.020970\tcustType:TE\n"
     ]
    },
    {
     "output_type": "execute_result",
     "data": {
      "text/plain": [
       "100"
      ]
     },
     "metadata": {},
     "execution_count": 5
    }
   ],
   "source": [
    "import enum\n",
    "\n",
    "from mode_util_base import read_field1D,read_maxcoords,rfcoord_xycomp_to_rfcoord_rfcomp\n",
    "from mode_util_base import rcomp_fcomp_alone_zaxis_line,rcomp_fcomp_alone_xyplane_circle,rcomp_fcomp_alone_xyplane_radius\n",
    "from mode_util_base import mode_wavenumber_mnp,main_mode_type\n",
    "from modes_batch_v2 import result_stats,read_field3D\n",
    "import numpy as np\n",
    "import math\n",
    "result_stats(result_dir=r\"\\\\WIN-232\\pillbox_result\\210428\")\n"
   ]
  },
  {
   "cell_type": "code",
   "execution_count": 4,
   "metadata": {},
   "outputs": [
    {
     "output_type": "stream",
     "name": "stdout",
     "text": [
      "Total lines:131074\nEXPECTED SIZE:131074\n['-229', '-229', '-129.501', '0', '0', '0', '0', '0', '0']\ni=0,j=0,k=0,u= [0. 0. 0. 0. 0. 0.]\n['-225.394', '-229', '-129.501', '0', '0', '0', '0', '0', '0']\ni=1,j=0,k=0,u= [0. 0. 0. 0. 0. 0.]\n['-221.787', '-229', '-129.501', '0', '0', '0', '0', '0', '0']\ni=2,j=0,k=0,u= [0. 0. 0. 0. 0. 0.]\n['-218.181', '-229', '-129.501', '0', '0', '0', '0', '0', '0']\ni=3,j=0,k=0,u= [0. 0. 0. 0. 0. 0.]\n['-214.575', '-229', '-129.501', '0', '0', '0', '0', '0', '0']\ni=4,j=0,k=0,u= [0. 0. 0. 0. 0. 0.]\n"
     ]
    }
   ],
   "source": [
    "arr,head=read_field3D(r\"\\\\WIN-232\\pillbox_result\\210428\\Mode_6_EField.txt\")"
   ]
  },
  {
   "cell_type": "code",
   "execution_count": 4,
   "metadata": {},
   "outputs": [],
   "source": [
    "import matplotlib.pyplot as plt\n"
   ]
  },
  {
   "cell_type": "code",
   "execution_count": 5,
   "metadata": {},
   "outputs": [],
   "source": [
    "resultdir=r\"\\\\172.1.10.232\\pillbox_modes\"\n",
    "modeindex=8\n",
    "ex,erc,efc,hx,hrc,hfc=rcomp_fcomp_alone_xyplane_circle(r\"\\\\172.1.10.232\\pillbox_modes\",1)\n",
    "x_hz_lin,y_hz_lin=read_field1D(r\"\\\\172.1.10.232\\pillbox_modes\\Mode_2_HZ_Z.txt\")\n",
    "x_e_cir,y_er_cir,y_ef_cir,x_h_cir,y_hr_cir,y_hf_cir=rcomp_fcomp_alone_xyplane_circle(resultdir,modeindex)\n",
    "x_e_rad,y_er_rad,y_ef_rad,x_h_rad,y_hr_rad,y_hf_rad=rcomp_fcomp_alone_xyplane_radius(resultdir,modeindex)\n",
    "x_e_lin,y_er_lin,y_ef_lin,x_h_lin,y_hr_lin,y_hf_lin=rcomp_fcomp_alone_zaxis_line(resultdir,modeindex)\n",
    "\n",
    "y_ef_lin2=np.concatenate([-y_ef_lin,y_ef_lin])\n",
    "x_e_lin2=np.concatenate([x_e_lin,x_e_lin+np.max(x_e_lin)])\n",
    "y_hf_lin2=np.concatenate([-y_hf_lin,y_hf_lin])\n",
    "x_h_lin2=np.concatenate([x_h_lin,x_h_lin+np.max(x_h_lin)])"
   ]
  },
  {
   "cell_type": "code",
   "execution_count": 8,
   "metadata": {},
   "outputs": [
    {
     "output_type": "execute_result",
     "data": {
      "text/plain": [
       "[<matplotlib.lines.Line2D at 0x1f90cc328b0>]"
      ]
     },
     "metadata": {},
     "execution_count": 8
    },
    {
     "output_type": "display_data",
     "data": {
      "text/plain": "<Figure size 432x288 with 1 Axes>",
      "image/svg+xml": "<?xml version=\"1.0\" encoding=\"utf-8\" standalone=\"no\"?>\r\n<!DOCTYPE svg PUBLIC \"-//W3C//DTD SVG 1.1//EN\"\r\n  \"http://www.w3.org/Graphics/SVG/1.1/DTD/svg11.dtd\">\r\n<!-- Created with matplotlib (https://matplotlib.org/) -->\r\n<svg height=\"248.518125pt\" version=\"1.1\" viewBox=\"0 0 396.392187 248.518125\" width=\"396.392187pt\" xmlns=\"http://www.w3.org/2000/svg\" xmlns:xlink=\"http://www.w3.org/1999/xlink\">\r\n <metadata>\r\n  <rdf:RDF xmlns:cc=\"http://creativecommons.org/ns#\" xmlns:dc=\"http://purl.org/dc/elements/1.1/\" xmlns:rdf=\"http://www.w3.org/1999/02/22-rdf-syntax-ns#\">\r\n   <cc:Work>\r\n    <dc:type rdf:resource=\"http://purl.org/dc/dcmitype/StillImage\"/>\r\n    <dc:date>2021-05-05T15:48:21.836496</dc:date>\r\n    <dc:format>image/svg+xml</dc:format>\r\n    <dc:creator>\r\n     <cc:Agent>\r\n      <dc:title>Matplotlib v3.3.4, https://matplotlib.org/</dc:title>\r\n     </cc:Agent>\r\n    </dc:creator>\r\n   </cc:Work>\r\n  </rdf:RDF>\r\n </metadata>\r\n <defs>\r\n  <style type=\"text/css\">*{stroke-linecap:butt;stroke-linejoin:round;}</style>\r\n </defs>\r\n <g id=\"figure_1\">\r\n  <g id=\"patch_1\">\r\n   <path d=\"M 0 248.518125 \r\nL 396.392187 248.518125 \r\nL 396.392187 0 \r\nL 0 0 \r\nz\r\n\" style=\"fill:none;\"/>\r\n  </g>\r\n  <g id=\"axes_1\">\r\n   <g id=\"patch_2\">\r\n    <path d=\"M 54.392188 224.64 \r\nL 389.192187 224.64 \r\nL 389.192187 7.2 \r\nL 54.392188 7.2 \r\nz\r\n\" style=\"fill:#ffffff;\"/>\r\n   </g>\r\n   <g id=\"matplotlib.axis_1\">\r\n    <g id=\"xtick_1\">\r\n     <g id=\"line2d_1\">\r\n      <defs>\r\n       <path d=\"M 0 0 \r\nL 0 3.5 \r\n\" id=\"mb351aa1d83\" style=\"stroke:#000000;stroke-width:0.8;\"/>\r\n      </defs>\r\n      <g>\r\n       <use style=\"stroke:#000000;stroke-width:0.8;\" x=\"69.610369\" xlink:href=\"#mb351aa1d83\" y=\"224.64\"/>\r\n      </g>\r\n     </g>\r\n     <g id=\"text_1\">\r\n      <!-- 0 -->\r\n      <g transform=\"translate(66.429119 239.238437)scale(0.1 -0.1)\">\r\n       <defs>\r\n        <path d=\"M 31.78125 66.40625 \r\nQ 24.171875 66.40625 20.328125 58.90625 \r\nQ 16.5 51.421875 16.5 36.375 \r\nQ 16.5 21.390625 20.328125 13.890625 \r\nQ 24.171875 6.390625 31.78125 6.390625 \r\nQ 39.453125 6.390625 43.28125 13.890625 \r\nQ 47.125 21.390625 47.125 36.375 \r\nQ 47.125 51.421875 43.28125 58.90625 \r\nQ 39.453125 66.40625 31.78125 66.40625 \r\nz\r\nM 31.78125 74.21875 \r\nQ 44.046875 74.21875 50.515625 64.515625 \r\nQ 56.984375 54.828125 56.984375 36.375 \r\nQ 56.984375 17.96875 50.515625 8.265625 \r\nQ 44.046875 -1.421875 31.78125 -1.421875 \r\nQ 19.53125 -1.421875 13.0625 8.265625 \r\nQ 6.59375 17.96875 6.59375 36.375 \r\nQ 6.59375 54.828125 13.0625 64.515625 \r\nQ 19.53125 74.21875 31.78125 74.21875 \r\nz\r\n\" id=\"DejaVuSans-48\"/>\r\n       </defs>\r\n       <use xlink:href=\"#DejaVuSans-48\"/>\r\n      </g>\r\n     </g>\r\n    </g>\r\n    <g id=\"xtick_2\">\r\n     <g id=\"line2d_2\">\r\n      <g>\r\n       <use style=\"stroke:#000000;stroke-width:0.8;\" x=\"130.249871\" xlink:href=\"#mb351aa1d83\" y=\"224.64\"/>\r\n      </g>\r\n     </g>\r\n     <g id=\"text_2\">\r\n      <!-- 20 -->\r\n      <g transform=\"translate(123.887371 239.238437)scale(0.1 -0.1)\">\r\n       <defs>\r\n        <path d=\"M 19.1875 8.296875 \r\nL 53.609375 8.296875 \r\nL 53.609375 0 \r\nL 7.328125 0 \r\nL 7.328125 8.296875 \r\nQ 12.9375 14.109375 22.625 23.890625 \r\nQ 32.328125 33.6875 34.8125 36.53125 \r\nQ 39.546875 41.84375 41.421875 45.53125 \r\nQ 43.3125 49.21875 43.3125 52.78125 \r\nQ 43.3125 58.59375 39.234375 62.25 \r\nQ 35.15625 65.921875 28.609375 65.921875 \r\nQ 23.96875 65.921875 18.8125 64.3125 \r\nQ 13.671875 62.703125 7.8125 59.421875 \r\nL 7.8125 69.390625 \r\nQ 13.765625 71.78125 18.9375 73 \r\nQ 24.125 74.21875 28.421875 74.21875 \r\nQ 39.75 74.21875 46.484375 68.546875 \r\nQ 53.21875 62.890625 53.21875 53.421875 \r\nQ 53.21875 48.921875 51.53125 44.890625 \r\nQ 49.859375 40.875 45.40625 35.40625 \r\nQ 44.1875 33.984375 37.640625 27.21875 \r\nQ 31.109375 20.453125 19.1875 8.296875 \r\nz\r\n\" id=\"DejaVuSans-50\"/>\r\n       </defs>\r\n       <use xlink:href=\"#DejaVuSans-50\"/>\r\n       <use x=\"63.623047\" xlink:href=\"#DejaVuSans-48\"/>\r\n      </g>\r\n     </g>\r\n    </g>\r\n    <g id=\"xtick_3\">\r\n     <g id=\"line2d_3\">\r\n      <g>\r\n       <use style=\"stroke:#000000;stroke-width:0.8;\" x=\"190.889373\" xlink:href=\"#mb351aa1d83\" y=\"224.64\"/>\r\n      </g>\r\n     </g>\r\n     <g id=\"text_3\">\r\n      <!-- 40 -->\r\n      <g transform=\"translate(184.526873 239.238437)scale(0.1 -0.1)\">\r\n       <defs>\r\n        <path d=\"M 37.796875 64.3125 \r\nL 12.890625 25.390625 \r\nL 37.796875 25.390625 \r\nz\r\nM 35.203125 72.90625 \r\nL 47.609375 72.90625 \r\nL 47.609375 25.390625 \r\nL 58.015625 25.390625 \r\nL 58.015625 17.1875 \r\nL 47.609375 17.1875 \r\nL 47.609375 0 \r\nL 37.796875 0 \r\nL 37.796875 17.1875 \r\nL 4.890625 17.1875 \r\nL 4.890625 26.703125 \r\nz\r\n\" id=\"DejaVuSans-52\"/>\r\n       </defs>\r\n       <use xlink:href=\"#DejaVuSans-52\"/>\r\n       <use x=\"63.623047\" xlink:href=\"#DejaVuSans-48\"/>\r\n      </g>\r\n     </g>\r\n    </g>\r\n    <g id=\"xtick_4\">\r\n     <g id=\"line2d_4\">\r\n      <g>\r\n       <use style=\"stroke:#000000;stroke-width:0.8;\" x=\"251.528874\" xlink:href=\"#mb351aa1d83\" y=\"224.64\"/>\r\n      </g>\r\n     </g>\r\n     <g id=\"text_4\">\r\n      <!-- 60 -->\r\n      <g transform=\"translate(245.166374 239.238437)scale(0.1 -0.1)\">\r\n       <defs>\r\n        <path d=\"M 33.015625 40.375 \r\nQ 26.375 40.375 22.484375 35.828125 \r\nQ 18.609375 31.296875 18.609375 23.390625 \r\nQ 18.609375 15.53125 22.484375 10.953125 \r\nQ 26.375 6.390625 33.015625 6.390625 \r\nQ 39.65625 6.390625 43.53125 10.953125 \r\nQ 47.40625 15.53125 47.40625 23.390625 \r\nQ 47.40625 31.296875 43.53125 35.828125 \r\nQ 39.65625 40.375 33.015625 40.375 \r\nz\r\nM 52.59375 71.296875 \r\nL 52.59375 62.3125 \r\nQ 48.875 64.0625 45.09375 64.984375 \r\nQ 41.3125 65.921875 37.59375 65.921875 \r\nQ 27.828125 65.921875 22.671875 59.328125 \r\nQ 17.53125 52.734375 16.796875 39.40625 \r\nQ 19.671875 43.65625 24.015625 45.921875 \r\nQ 28.375 48.1875 33.59375 48.1875 \r\nQ 44.578125 48.1875 50.953125 41.515625 \r\nQ 57.328125 34.859375 57.328125 23.390625 \r\nQ 57.328125 12.15625 50.6875 5.359375 \r\nQ 44.046875 -1.421875 33.015625 -1.421875 \r\nQ 20.359375 -1.421875 13.671875 8.265625 \r\nQ 6.984375 17.96875 6.984375 36.375 \r\nQ 6.984375 53.65625 15.1875 63.9375 \r\nQ 23.390625 74.21875 37.203125 74.21875 \r\nQ 40.921875 74.21875 44.703125 73.484375 \r\nQ 48.484375 72.75 52.59375 71.296875 \r\nz\r\n\" id=\"DejaVuSans-54\"/>\r\n       </defs>\r\n       <use xlink:href=\"#DejaVuSans-54\"/>\r\n       <use x=\"63.623047\" xlink:href=\"#DejaVuSans-48\"/>\r\n      </g>\r\n     </g>\r\n    </g>\r\n    <g id=\"xtick_5\">\r\n     <g id=\"line2d_5\">\r\n      <g>\r\n       <use style=\"stroke:#000000;stroke-width:0.8;\" x=\"312.168376\" xlink:href=\"#mb351aa1d83\" y=\"224.64\"/>\r\n      </g>\r\n     </g>\r\n     <g id=\"text_5\">\r\n      <!-- 80 -->\r\n      <g transform=\"translate(305.805876 239.238437)scale(0.1 -0.1)\">\r\n       <defs>\r\n        <path d=\"M 31.78125 34.625 \r\nQ 24.75 34.625 20.71875 30.859375 \r\nQ 16.703125 27.09375 16.703125 20.515625 \r\nQ 16.703125 13.921875 20.71875 10.15625 \r\nQ 24.75 6.390625 31.78125 6.390625 \r\nQ 38.8125 6.390625 42.859375 10.171875 \r\nQ 46.921875 13.96875 46.921875 20.515625 \r\nQ 46.921875 27.09375 42.890625 30.859375 \r\nQ 38.875 34.625 31.78125 34.625 \r\nz\r\nM 21.921875 38.8125 \r\nQ 15.578125 40.375 12.03125 44.71875 \r\nQ 8.5 49.078125 8.5 55.328125 \r\nQ 8.5 64.0625 14.71875 69.140625 \r\nQ 20.953125 74.21875 31.78125 74.21875 \r\nQ 42.671875 74.21875 48.875 69.140625 \r\nQ 55.078125 64.0625 55.078125 55.328125 \r\nQ 55.078125 49.078125 51.53125 44.71875 \r\nQ 48 40.375 41.703125 38.8125 \r\nQ 48.828125 37.15625 52.796875 32.3125 \r\nQ 56.78125 27.484375 56.78125 20.515625 \r\nQ 56.78125 9.90625 50.3125 4.234375 \r\nQ 43.84375 -1.421875 31.78125 -1.421875 \r\nQ 19.734375 -1.421875 13.25 4.234375 \r\nQ 6.78125 9.90625 6.78125 20.515625 \r\nQ 6.78125 27.484375 10.78125 32.3125 \r\nQ 14.796875 37.15625 21.921875 38.8125 \r\nz\r\nM 18.3125 54.390625 \r\nQ 18.3125 48.734375 21.84375 45.5625 \r\nQ 25.390625 42.390625 31.78125 42.390625 \r\nQ 38.140625 42.390625 41.71875 45.5625 \r\nQ 45.3125 48.734375 45.3125 54.390625 \r\nQ 45.3125 60.0625 41.71875 63.234375 \r\nQ 38.140625 66.40625 31.78125 66.40625 \r\nQ 25.390625 66.40625 21.84375 63.234375 \r\nQ 18.3125 60.0625 18.3125 54.390625 \r\nz\r\n\" id=\"DejaVuSans-56\"/>\r\n       </defs>\r\n       <use xlink:href=\"#DejaVuSans-56\"/>\r\n       <use x=\"63.623047\" xlink:href=\"#DejaVuSans-48\"/>\r\n      </g>\r\n     </g>\r\n    </g>\r\n    <g id=\"xtick_6\">\r\n     <g id=\"line2d_6\">\r\n      <g>\r\n       <use style=\"stroke:#000000;stroke-width:0.8;\" x=\"372.807878\" xlink:href=\"#mb351aa1d83\" y=\"224.64\"/>\r\n      </g>\r\n     </g>\r\n     <g id=\"text_6\">\r\n      <!-- 100 -->\r\n      <g transform=\"translate(363.264128 239.238437)scale(0.1 -0.1)\">\r\n       <defs>\r\n        <path d=\"M 12.40625 8.296875 \r\nL 28.515625 8.296875 \r\nL 28.515625 63.921875 \r\nL 10.984375 60.40625 \r\nL 10.984375 69.390625 \r\nL 28.421875 72.90625 \r\nL 38.28125 72.90625 \r\nL 38.28125 8.296875 \r\nL 54.390625 8.296875 \r\nL 54.390625 0 \r\nL 12.40625 0 \r\nz\r\n\" id=\"DejaVuSans-49\"/>\r\n       </defs>\r\n       <use xlink:href=\"#DejaVuSans-49\"/>\r\n       <use x=\"63.623047\" xlink:href=\"#DejaVuSans-48\"/>\r\n       <use x=\"127.246094\" xlink:href=\"#DejaVuSans-48\"/>\r\n      </g>\r\n     </g>\r\n    </g>\r\n   </g>\r\n   <g id=\"matplotlib.axis_2\">\r\n    <g id=\"ytick_1\">\r\n     <g id=\"line2d_7\">\r\n      <defs>\r\n       <path d=\"M 0 0 \r\nL -3.5 0 \r\n\" id=\"mabda6b7bdf\" style=\"stroke:#000000;stroke-width:0.8;\"/>\r\n      </defs>\r\n      <g>\r\n       <use style=\"stroke:#000000;stroke-width:0.8;\" x=\"54.392188\" xlink:href=\"#mabda6b7bdf\" y=\"195.298264\"/>\r\n      </g>\r\n     </g>\r\n     <g id=\"text_7\">\r\n      <!-- −10000 -->\r\n      <g transform=\"translate(7.2 199.097483)scale(0.1 -0.1)\">\r\n       <defs>\r\n        <path d=\"M 10.59375 35.5 \r\nL 73.1875 35.5 \r\nL 73.1875 27.203125 \r\nL 10.59375 27.203125 \r\nz\r\n\" id=\"DejaVuSans-8722\"/>\r\n       </defs>\r\n       <use xlink:href=\"#DejaVuSans-8722\"/>\r\n       <use x=\"83.789062\" xlink:href=\"#DejaVuSans-49\"/>\r\n       <use x=\"147.412109\" xlink:href=\"#DejaVuSans-48\"/>\r\n       <use x=\"211.035156\" xlink:href=\"#DejaVuSans-48\"/>\r\n       <use x=\"274.658203\" xlink:href=\"#DejaVuSans-48\"/>\r\n       <use x=\"338.28125\" xlink:href=\"#DejaVuSans-48\"/>\r\n      </g>\r\n     </g>\r\n    </g>\r\n    <g id=\"ytick_2\">\r\n     <g id=\"line2d_8\">\r\n      <g>\r\n       <use style=\"stroke:#000000;stroke-width:0.8;\" x=\"54.392188\" xlink:href=\"#mabda6b7bdf\" y=\"154.023457\"/>\r\n      </g>\r\n     </g>\r\n     <g id=\"text_8\">\r\n      <!-- −5000 -->\r\n      <g transform=\"translate(13.5625 157.822676)scale(0.1 -0.1)\">\r\n       <defs>\r\n        <path d=\"M 10.796875 72.90625 \r\nL 49.515625 72.90625 \r\nL 49.515625 64.59375 \r\nL 19.828125 64.59375 \r\nL 19.828125 46.734375 \r\nQ 21.96875 47.46875 24.109375 47.828125 \r\nQ 26.265625 48.1875 28.421875 48.1875 \r\nQ 40.625 48.1875 47.75 41.5 \r\nQ 54.890625 34.8125 54.890625 23.390625 \r\nQ 54.890625 11.625 47.5625 5.09375 \r\nQ 40.234375 -1.421875 26.90625 -1.421875 \r\nQ 22.3125 -1.421875 17.546875 -0.640625 \r\nQ 12.796875 0.140625 7.71875 1.703125 \r\nL 7.71875 11.625 \r\nQ 12.109375 9.234375 16.796875 8.0625 \r\nQ 21.484375 6.890625 26.703125 6.890625 \r\nQ 35.15625 6.890625 40.078125 11.328125 \r\nQ 45.015625 15.765625 45.015625 23.390625 \r\nQ 45.015625 31 40.078125 35.4375 \r\nQ 35.15625 39.890625 26.703125 39.890625 \r\nQ 22.75 39.890625 18.8125 39.015625 \r\nQ 14.890625 38.140625 10.796875 36.28125 \r\nz\r\n\" id=\"DejaVuSans-53\"/>\r\n       </defs>\r\n       <use xlink:href=\"#DejaVuSans-8722\"/>\r\n       <use x=\"83.789062\" xlink:href=\"#DejaVuSans-53\"/>\r\n       <use x=\"147.412109\" xlink:href=\"#DejaVuSans-48\"/>\r\n       <use x=\"211.035156\" xlink:href=\"#DejaVuSans-48\"/>\r\n       <use x=\"274.658203\" xlink:href=\"#DejaVuSans-48\"/>\r\n      </g>\r\n     </g>\r\n    </g>\r\n    <g id=\"ytick_3\">\r\n     <g id=\"line2d_9\">\r\n      <g>\r\n       <use style=\"stroke:#000000;stroke-width:0.8;\" x=\"54.392188\" xlink:href=\"#mabda6b7bdf\" y=\"112.748651\"/>\r\n      </g>\r\n     </g>\r\n     <g id=\"text_9\">\r\n      <!-- 0 -->\r\n      <g transform=\"translate(41.029688 116.54787)scale(0.1 -0.1)\">\r\n       <use xlink:href=\"#DejaVuSans-48\"/>\r\n      </g>\r\n     </g>\r\n    </g>\r\n    <g id=\"ytick_4\">\r\n     <g id=\"line2d_10\">\r\n      <g>\r\n       <use style=\"stroke:#000000;stroke-width:0.8;\" x=\"54.392188\" xlink:href=\"#mabda6b7bdf\" y=\"71.473844\"/>\r\n      </g>\r\n     </g>\r\n     <g id=\"text_10\">\r\n      <!-- 5000 -->\r\n      <g transform=\"translate(21.942188 75.273063)scale(0.1 -0.1)\">\r\n       <use xlink:href=\"#DejaVuSans-53\"/>\r\n       <use x=\"63.623047\" xlink:href=\"#DejaVuSans-48\"/>\r\n       <use x=\"127.246094\" xlink:href=\"#DejaVuSans-48\"/>\r\n       <use x=\"190.869141\" xlink:href=\"#DejaVuSans-48\"/>\r\n      </g>\r\n     </g>\r\n    </g>\r\n    <g id=\"ytick_5\">\r\n     <g id=\"line2d_11\">\r\n      <g>\r\n       <use style=\"stroke:#000000;stroke-width:0.8;\" x=\"54.392188\" xlink:href=\"#mabda6b7bdf\" y=\"30.199038\"/>\r\n      </g>\r\n     </g>\r\n     <g id=\"text_11\">\r\n      <!-- 10000 -->\r\n      <g transform=\"translate(15.579688 33.998257)scale(0.1 -0.1)\">\r\n       <use xlink:href=\"#DejaVuSans-49\"/>\r\n       <use x=\"63.623047\" xlink:href=\"#DejaVuSans-48\"/>\r\n       <use x=\"127.246094\" xlink:href=\"#DejaVuSans-48\"/>\r\n       <use x=\"190.869141\" xlink:href=\"#DejaVuSans-48\"/>\r\n       <use x=\"254.492188\" xlink:href=\"#DejaVuSans-48\"/>\r\n      </g>\r\n     </g>\r\n    </g>\r\n   </g>\r\n   <g id=\"line2d_12\">\r\n    <path clip-path=\"url(#pf995d52fcc)\" d=\"M 69.610369 140.158939 \r\nL 70.339384 140.689738 \r\nL 71.068399 141.453022 \r\nL 72.161921 143.012679 \r\nL 73.255443 145.039911 \r\nL 74.348965 147.500002 \r\nL 75.806994 151.391938 \r\nL 77.265023 155.904167 \r\nL 78.723053 160.949488 \r\nL 79.087561 161.430223 \r\nL 80.910097 155.437197 \r\nL 82.732633 150.124964 \r\nL 84.555171 145.431793 \r\nL 86.377706 141.290844 \r\nL 88.200244 137.632327 \r\nL 90.387288 133.779035 \r\nL 92.574332 130.397122 \r\nL 95.125882 126.893757 \r\nL 98.406449 122.836392 \r\nL 105.696597 114.372493 \r\nL 112.622235 106.084922 \r\nL 117.360833 100.531417 \r\nL 120.276889 97.466167 \r\nL 122.463935 95.487448 \r\nL 124.28647 94.121644 \r\nL 125.744499 93.252968 \r\nL 127.20253 92.612533 \r\nL 128.660558 92.226275 \r\nL 130.118586 92.118045 \r\nL 131.212111 92.232476 \r\nL 132.305632 92.523889 \r\nL 133.399153 92.999258 \r\nL 134.492677 93.664306 \r\nL 135.950706 94.853958 \r\nL 137.408734 96.395648 \r\nL 138.866762 98.290974 \r\nL 140.689301 101.106157 \r\nL 142.147329 103.877588 \r\nL 143.60536 107.17399 \r\nL 145.427896 111.979159 \r\nL 147.250431 117.459843 \r\nL 148.343955 121.03094 \r\nL 149.07297 121.613641 \r\nL 150.166491 122.867 \r\nL 150.530998 123.374255 \r\nL 150.895505 123.298736 \r\nL 151.624522 119.229633 \r\nL 151.989029 117.861813 \r\nL 152.718043 116.672993 \r\nL 153.447058 115.93971 \r\nL 154.176072 115.665642 \r\nL 154.540579 115.701866 \r\nL 155.269593 116.122436 \r\nL 155.998607 117.009208 \r\nL 156.727624 118.363988 \r\nL 157.456638 120.187921 \r\nL 158.185653 122.481761 \r\nL 158.55016 121.704541 \r\nL 160.372698 115.891383 \r\nL 161.830726 111.923259 \r\nL 163.288755 108.582591 \r\nL 164.746786 105.885173 \r\nL 165.840307 104.292308 \r\nL 166.933829 103.073131 \r\nL 168.02735 102.231092 \r\nL 168.756367 101.880409 \r\nL 169.485381 101.698724 \r\nL 169.849888 102.149532 \r\nL 175.682004 132.911273 \r\nL 180.056092 154.841617 \r\nL 183.701166 172.056719 \r\nL 186.981733 186.5304 \r\nL 189.897793 198.446547 \r\nL 192.449342 208.042532 \r\nL 193.178356 210.629716 \r\nL 193.542863 211.283341 \r\nL 195.365402 212.658045 \r\nL 197.18794 213.774988 \r\nL 199.010476 214.619815 \r\nL 199.374983 214.754872 \r\nL 199.73949 214.756364 \r\nL 203.020056 208.415475 \r\nL 205.207099 204.591044 \r\nL 207.029637 201.761956 \r\nL 208.852173 199.335585 \r\nL 209.581187 198.493238 \r\nL 211.768232 192.038134 \r\nL 215.777813 179.506011 \r\nL 228.171063 139.915525 \r\nL 229.629091 135.87751 \r\nL 231.087119 131.246516 \r\nL 232.909658 124.608739 \r\nL 234.732193 117.029043 \r\nL 236.554732 108.533154 \r\nL 238.741774 97.203165 \r\nL 241.293327 82.603101 \r\nL 244.209386 64.494804 \r\nL 251.499531 17.083636 \r\nL 251.864038 17.396963 \r\nL 253.686576 27.264245 \r\nL 255.509115 38.464071 \r\nL 257.696157 52.508541 \r\nL 258.789679 55.324777 \r\nL 259.883203 57.669983 \r\nL 260.976724 59.574021 \r\nL 262.070245 61.067335 \r\nL 263.163766 62.180613 \r\nL 264.257291 62.944841 \r\nL 265.350812 63.390817 \r\nL 266.444333 63.549525 \r\nL 267.537854 63.451513 \r\nL 268.631376 63.12684 \r\nL 269.7249 62.605203 \r\nL 271.182928 61.653105 \r\nL 273.005467 60.143211 \r\nL 275.557016 57.649736 \r\nL 281.389132 51.738313 \r\nL 283.576178 49.886568 \r\nL 285.398713 48.624515 \r\nL 287.221252 47.664931 \r\nL 288.67928 47.135477 \r\nL 290.137308 46.827917 \r\nL 291.59534 46.745998 \r\nL 293.053368 46.888205 \r\nL 294.511399 47.247979 \r\nL 295.969428 47.814093 \r\nL 297.791963 48.787562 \r\nL 298.15647 49.242588 \r\nL 300.708023 55.600234 \r\nL 302.895065 60.399542 \r\nL 304.717604 63.860379 \r\nL 306.175632 66.236813 \r\nL 307.633663 68.237167 \r\nL 309.091691 69.839 \r\nL 310.185213 70.767056 \r\nL 316.017332 74.76058 \r\nL 320.026913 76.899102 \r\nL 323.30748 78.747443 \r\nL 324.036491 79.237951 \r\nL 325.859029 81.106769 \r\nL 327.681568 83.256751 \r\nL 329.504103 85.72274 \r\nL 331.326638 88.536067 \r\nL 332.055655 89.764854 \r\nL 332.420163 91.092161 \r\nL 336.429743 115.746723 \r\nL 339.3458 132.478943 \r\nL 341.168338 141.825389 \r\nL 342.990874 150.006889 \r\nL 344.448905 155.703275 \r\nL 345.906933 160.637079 \r\nL 347.364962 164.806166 \r\nL 348.822993 168.213231 \r\nL 349.916511 170.272719 \r\nL 351.010036 171.912364 \r\nL 352.103557 173.138268 \r\nL 353.197078 173.957793 \r\nL 353.926095 174.282567 \r\nL 354.655109 174.433357 \r\nL 355.384124 174.413216 \r\nL 356.113138 174.225394 \r\nL 356.842155 173.873329 \r\nL 357.935676 173.04531 \r\nL 358.300183 172.691251 \r\nL 363.038778 163.029712 \r\nL 365.590331 158.539404 \r\nL 366.319345 157.338283 \r\nL 366.683852 155.861013 \r\nL 367.777373 150.047503 \r\nL 368.870894 145.497113 \r\nL 369.599909 143.171026 \r\nL 370.328926 141.41368 \r\nL 371.05794 140.545145 \r\nL 371.786954 140.054538 \r\nL 372.515968 139.832353 \r\nL 373.244998 139.870116 \r\nL 373.974006 140.158939 \r\nL 373.974006 140.158939 \r\n\" style=\"fill:none;stroke:#1f77b4;stroke-linecap:square;stroke-width:1.5;\"/>\r\n   </g>\r\n   <g id=\"patch_3\">\r\n    <path d=\"M 54.392188 224.64 \r\nL 54.392188 7.2 \r\n\" style=\"fill:none;stroke:#000000;stroke-linecap:square;stroke-linejoin:miter;stroke-width:0.8;\"/>\r\n   </g>\r\n   <g id=\"patch_4\">\r\n    <path d=\"M 389.192187 224.64 \r\nL 389.192187 7.2 \r\n\" style=\"fill:none;stroke:#000000;stroke-linecap:square;stroke-linejoin:miter;stroke-width:0.8;\"/>\r\n   </g>\r\n   <g id=\"patch_5\">\r\n    <path d=\"M 54.392188 224.64 \r\nL 389.192187 224.64 \r\n\" style=\"fill:none;stroke:#000000;stroke-linecap:square;stroke-linejoin:miter;stroke-width:0.8;\"/>\r\n   </g>\r\n   <g id=\"patch_6\">\r\n    <path d=\"M 54.392188 7.2 \r\nL 389.192187 7.2 \r\n\" style=\"fill:none;stroke:#000000;stroke-linecap:square;stroke-linejoin:miter;stroke-width:0.8;\"/>\r\n   </g>\r\n  </g>\r\n </g>\r\n <defs>\r\n  <clipPath id=\"pf995d52fcc\">\r\n   <rect height=\"217.44\" width=\"334.8\" x=\"54.392188\" y=\"7.2\"/>\r\n  </clipPath>\r\n </defs>\r\n</svg>\r\n",
      "image/png": "[encoded data removed]"
     },
     "metadata": {
      "needs_background": "light"
     }
    }
   ],
   "source": [
    "plt.plot(x_e_cir,y_er_cir)"
   ]
  },
  {
   "cell_type": "code",
   "execution_count": 6,
   "metadata": {},
   "outputs": [],
   "source": [
    "def mode_type_full(resultdir,modeindex):\n",
    "    mainmode=main_mode_type(resultdir,modeindex)\n",
    "    x_e_cir,y_er_cir,y_ef_cir,x_h_cir,y_hr_cir,y_hf_cir=rcomp_fcomp_alone_xyplane_circle(resultdir,modeindex)\n",
    "    x_e_rad,y_er_rad,y_ef_rad,x_h_rad,y_hr_rad,y_hf_rad=rcomp_fcomp_alone_xyplane_radius(resultdir,modeindex)\n",
    "    x_e_lin,y_er_lin,y_ef_lin,x_h_lin,y_hr_lin,y_hf_lin=rcomp_fcomp_alone_zaxis_line(resultdir,modeindex)\n",
    "    m_e,n_e,p_e=mode_wavenumber_mnp(x_e_cir,y_ef_cir,x_e_rad,y_ef_rad,x_e_lin,y_ef_lin)\n",
    "    m_h,n_h,p_h=mode_wavenumber_mnp(x_h_cir,y_hf_cir,x_h_rad,y_hf_rad,x_h_lin,y_hf_lin)\n",
    "\n",
    "    return mainmode,m_e,n_e,p_e,m_h,n_h,p_h"
   ]
  },
  {
   "cell_type": "code",
   "execution_count": 7,
   "metadata": {},
   "outputs": [
    {
     "output_type": "stream",
     "name": "stdout",
     "text": [
      "('TM', 4.0, 8, 13.0, 0.0, 1, 0)\n",
      "('TE', 1.0, 0, 1.0, 1.0, 0, 1.0)\n",
      "('TM', 13.0, 12, 7.0, 0.0, 1, 1.0)\n",
      "('TM', 14.0, 10, 0, 1.0, 1, 0)\n",
      "('TE', 2.0, 1, 1.0, 2.0, 1, 1.0)\n",
      "('HX', 0.0, 1, 1.0, 1.0, 1, 1.0)\n",
      "('TE', 3.0, 2, 1.0, 3.0, 1, 1.0)\n",
      "('TM', 4.0, 14, 7.0, 2.0, 2, 0)\n",
      "('TM', 12.0, 14, 21.0, 0.0, 1, 0)\n"
     ]
    }
   ],
   "source": [
    "for i in range(1,10):\n",
    "    print(mode_type_full(r\"\\\\172.1.10.232\\pillbox_modes\",i))"
   ]
  },
  {
   "cell_type": "code",
   "execution_count": 8,
   "metadata": {},
   "outputs": [],
   "source": [
    "def mode_type_final(resultdir,modeindex):\n",
    "    mainmode,m_e,n_e,p_e,m_h,n_h,p_h=mode_type_full(resultdir,modeindex)\n",
    "    if mainmode==\"TM\":\n",
    "        M=m_h\n",
    "        N=n_h\n",
    "        P=p_h\n",
    "    elif mainmode==\"TE\":\n",
    "        M=m_e\n",
    "        N=n_e\n",
    "        P=p_e\n",
    "    else:\n",
    "        M=-1\n",
    "        N=-1\n",
    "        P=-1\n",
    "    return mainmode,M,N,P\n"
   ]
  },
  {
   "cell_type": "code",
   "execution_count": 16,
   "metadata": {},
   "outputs": [
    {
     "output_type": "stream",
     "name": "stdout",
     "text": [
      "1 ('TM', 0.0, 1, 0)\n",
      "2 ('TE', 1.0, 0, 1.0)\n",
      "3 ('TM', 0.0, 1, 1.0)\n",
      "4 ('TM', 1.0, 1, 0)\n",
      "5 ('TE', 2.0, 1, 1.0)\n",
      "6 ('HX', -1, -1, -1)\n",
      "7 ('TE', 3.0, 2, 1.0)\n",
      "8 ('TM', 2.0, 2, 0)\n",
      "9 ('TM', 0.0, 1, 0)\n",
      "10 ('TM', 2.0, 2, 1.0)\n",
      "11 ('TE', 1.0, 0, 1.0)\n",
      "12 ('TE', 4.0, 1, 1.0)\n",
      "13 ('TE', 1.0, 1, 1.0)\n",
      "14 ('TM', 0.0, 1, 0)\n",
      "15 ('TM', 0.0, 1, 1.0)\n",
      "16 ('TE', 2.0, 1, 1.0)\n",
      "17 ('TM', 3.0, 2, 0)\n",
      "18 ('TE', 0.0, 1, 1.0)\n",
      "19 ('TM', 3.0, 2, 1.0)\n",
      "20 ('TE', 3.0, 1, 1.0)\n",
      "21 ('TE', 5.0, 1, 1.0)\n",
      "22 ('TM', 1.0, 2, 0)\n",
      "23 ('TE', 2.0, 2, 1.0)\n",
      "24 ('TE', 0.0, 1, 1.0)\n",
      "25 ('TM', 2.0, 2, 0)\n",
      "26 ('TM', 4.0, 2, 0)\n",
      "27 ('TE', 4.0, 0, 1.0)\n",
      "28 ('TE', 1.0, 1, 1.0)\n",
      "29 ('TM', 0.0, 2, 0)\n",
      "30 ('TE', 6.0, 2, 1.0)\n",
      "31 ('TM', 4.0, 1, 1.0)\n",
      "32 ('TM', 2.0, 2, 0)\n",
      "33 ('TM', 3.0, 1, 0)\n",
      "34 ('TE', 3.0, 2, 1.0)\n",
      "35 ('TE', 1.0, 0, 3.0)\n",
      "36 ('TM', 0.0, 3, 0)\n",
      "37 ('TM', 0.0, 1, 3.0)\n",
      "38 ('TE', 2.0, 2, 0)\n",
      "39 ('TM', 5.0, 2, 0)\n",
      "40 ('TM', 2.0, 3, 1.0)\n",
      "41 ('TE', 2.0, 0, 3.0)\n",
      "42 ('HX', -1, -1, -1)\n",
      "43 ('TE', 1.0, 2, 1.0)\n",
      "44 ('TE', 7.0, 1, 1.0)\n",
      "45 ('TM', 0.0, 2, 1.0)\n",
      "46 ('HX', -1, -1, -1)\n",
      "47 ('TM', 5.0, 2, 1.0)\n",
      "48 ('TE', 3.0, 0, 3.0)\n",
      "49 ('TM', 4.0, 3, 0)\n",
      "50 ('TE', 4.0, 2, 1.0)\n",
      "51 ('TE', 3.0, 2, 1.0)\n",
      "52 ('TM', 3.0, 3, 0)\n",
      "53 ('TM', 2.0, 1, 3.0)\n",
      "54 ('TE', 4.0, 1, 3.0)\n",
      "55 ('TE', 1.0, 1, 3.0)\n",
      "56 ('TM', 6.0, 3, 0)\n",
      "57 ('TM', 0.0, 2, 3.0)\n",
      "58 ('TE', 8.0, 1, 1.0)\n",
      "59 ('TM', 2.0, 3, 0)\n",
      "60 ('TM', 3.0, 4, 1.0)\n",
      "61 ('TM', 1.0, 3, 0)\n",
      "62 ('TE', 1.0, 2, 1.0)\n",
      "63 ('TE', 7.0, 0, 0)\n",
      "64 ('TM', 0.0, 2, 0)\n",
      "65 ('TM', 6.0, 2, 1.0)\n",
      "66 ('TE', 2.0, 3, 1.0)\n",
      "67 ('TM', 5.0, 3, 0)\n",
      "68 ('TM', 3.0, 2, 3.000000000000001)\n",
      "69 ('TE', 5.0, 1, 3.0)\n",
      "70 ('TE', 0.0, 2, 1.0)\n",
      "71 ('TE', 2.0, 1, 3.0)\n",
      "72 ('TE', 4.0, 1, 1.0)\n",
      "73 ('TE', 5.0, 2, 1.0)\n",
      "74 ('HX', -1, -1, -1)\n",
      "75 ('TM', 4.0, 3, 0)\n",
      "76 ('TM', 7.0, 3, 0)\n",
      "77 ('TE', 8.0, 1, 1.0000000000000002)\n",
      "78 ('TE', 6.0, 1, 3.0)\n",
      "79 ('TM', 3.0, 2, 0)\n",
      "80 ('HX', -1, -1, -1)\n",
      "81 ('TM', 4.0, 1, 3.0)\n",
      "82 ('TM', 0.0, 1, 0)\n",
      "83 ('TM', 6.0, 1, 0)\n",
      "84 ('TM', 4.0, 2, 1.0)\n",
      "85 ('TE', 2.0, 3, 1.0)\n",
      "86 ('TM', 7.0, 3, 1.0)\n",
      "87 ('TE', 2.0, 0, 3.0)\n",
      "88 ('TE', 3.0, 2, 3.0)\n",
      "89 ('TM', 1.0, 3, 0)\n",
      "90 ('TM', 2.0, 4, 0)\n",
      "91 ('TE', 3.0, 3, 1.0)\n",
      "92 ('TE', 0.0, 1, 3.0)\n",
      "93 ('TM', 0.0, 4, 0)\n",
      "94 ('TM', 2.0, 2, 3.0)\n",
      "95 ('TE', 3.0, 0, 3.0)\n",
      "96 ('TE', 5.0, 1, 0)\n",
      "97 ('TE', 1.0, 2, 3.0)\n",
      "98 ('TM', 2.0, 3, 1.0)\n",
      "99 ('TE', 7.0, 1, 3.0)\n"
     ]
    }
   ],
   "source": [
    "for i in range(1,100):\n",
    "    print(i,mode_type_final(r\"\\\\172.1.10.232\\pillbox_modes\",i))"
   ]
  },
  {
   "cell_type": "code",
   "execution_count": null,
   "metadata": {},
   "outputs": [],
   "source": []
  },
  {
   "cell_type": "code",
   "execution_count": null,
   "metadata": {},
   "outputs": [],
   "source": []
  }
 ]
}