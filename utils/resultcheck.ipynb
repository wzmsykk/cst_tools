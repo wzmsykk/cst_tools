{
 "cells": [
  {
   "cell_type": "code",
   "execution_count": 2,
   "metadata": {},
   "outputs": [],
   "source": [
    "import json\n",
    "import numpy as np\n",
    "import pandas as pd\n",
    "from pathlib import Path"
   ]
  },
  {
   "cell_type": "code",
   "execution_count": 16,
   "metadata": {},
   "outputs": [
    {
     "name": "stdout",
     "output_type": "stream",
     "text": [
      "d0.1\n",
      "g.1\n",
      "Rx.1\n",
      "Ry.1\n",
      "a.1\n",
      "C2.1\n",
      "C3.1\n",
      "C4.1\n",
      "gx0.1\n",
      "gy0.1\n",
      "L.1\n"
     ]
    }
   ],
   "source": [
    "indpath=r\"F:\\programs\\cst_tools\\project\\WTC2022WORK\\result\\GEN_3_Individuals.csv\"\n",
    "inds=pd.read_csv(indpath)\n",
    "input_name_sim = [\n",
    "            \"d0\",\n",
    "            \"g\",\n",
    "            \"Rx\",\n",
    "            \"Ry\",\n",
    "            \"a\",\n",
    "            \"C2\",\n",
    "            \"C3\",\n",
    "            \"C4\",\n",
    "            \"gx0\",\n",
    "            \"gy0\",\n",
    "            \"L\",\n",
    "        ]\n",
    "len(inds)\n",
    "inds[\"L\"][1]\n",
    "for name in input_name_sim:\n",
    "        name1=name+\".1\"\n",
    "        print(name1)"
   ]
  },
  {
   "cell_type": "code",
   "execution_count": 17,
   "metadata": {},
   "outputs": [],
   "source": [
    "for index in range(len(inds)):\n",
    "    for name in input_name_sim:\n",
    "        name1=name+\".1\"\n",
    "        if inds[name][index]!=inds[name1][index]:\n",
    "            print(\"Result inconsistant at index %d, %s:%f %s:%f\"%(index, name, inds[name][index], name1, inds[name1][index]))"
   ]
  }
 ],
 "metadata": {
  "kernelspec": {
   "display_name": "base",
   "language": "python",
   "name": "python3"
  },
  "language_info": {
   "codemirror_mode": {
    "name": "ipython",
    "version": 3
   },
   "file_extension": ".py",
   "mimetype": "text/x-python",
   "name": "python",
   "nbconvert_exporter": "python",
   "pygments_lexer": "ipython3",
   "version": "3.11.4"
  }
 },
 "nbformat": 4,
 "nbformat_minor": 2
}
