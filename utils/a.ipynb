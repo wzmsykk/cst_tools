{
 "cells": [
  {
   "cell_type": "code",
   "execution_count": 12,
   "metadata": {},
   "outputs": [],
   "source": [
    "import pandas\n",
    "import re"
   ]
  },
  {
   "cell_type": "code",
   "execution_count": 13,
   "metadata": {},
   "outputs": [
    {
     "data": {
      "text/plain": [
       "'1'"
      ]
     },
     "execution_count": 13,
     "metadata": {},
     "output_type": "execute_result"
    }
   ],
   "source": [
    "vaild=re.compile(r\"GEN_(\\d+)_relations.json\")\n",
    "vaild.search(\"GEN_1_relations.json\")[1]"
   ]
  },
  {
   "cell_type": "code",
   "execution_count": 18,
   "metadata": {},
   "outputs": [
    {
     "name": "stdout",
     "output_type": "stream",
     "text": [
      "igen=0\n",
      "igen=1\n"
     ]
    }
   ],
   "source": [
    "files=[\"GEN_0_Relations.json\",\"GEN_1_Relations.json\"]\n",
    "vaild=re.compile(r\"GEN_(\\d+)_Relations.json\")\n",
    "maxigen=0\n",
    "for file in files:\n",
    "    igen=int(vaild.search(file)[1])\n",
    "    print(\"igen=%d\"%igen)\n",
    "    if igen>maxigen:\n",
    "        maxigen=igen\n",
    "igen=maxigen"
   ]
  }
 ],
 "metadata": {
  "kernelspec": {
   "display_name": "base",
   "language": "python",
   "name": "python3"
  },
  "language_info": {
   "codemirror_mode": {
    "name": "ipython",
    "version": 3
   },
   "file_extension": ".py",
   "mimetype": "text/x-python",
   "name": "python",
   "nbconvert_exporter": "python",
   "pygments_lexer": "ipython3",
   "version": "3.11.4"
  }
 },
 "nbformat": 4,
 "nbformat_minor": 2
}
