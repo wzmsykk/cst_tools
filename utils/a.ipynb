{
 "cells": [
  {
   "cell_type": "code",
   "execution_count": 1,
   "metadata": {},
   "outputs": [],
   "source": [
    "import pandas\n",
    "import re\n",
    "import numpy as np"
   ]
  },
  {
   "cell_type": "code",
   "execution_count": 13,
   "metadata": {},
   "outputs": [
    {
     "data": {
      "text/plain": [
       "'1'"
      ]
     },
     "execution_count": 13,
     "metadata": {},
     "output_type": "execute_result"
    }
   ],
   "source": [
    "vaild=re.compile(r\"GEN_(\\d+)_relations.json\")\n",
    "vaild.search(\"GEN_1_relations.json\")[1]"
   ]
  },
  {
   "cell_type": "code",
   "execution_count": 18,
   "metadata": {},
   "outputs": [
    {
     "name": "stdout",
     "output_type": "stream",
     "text": [
      "igen=0\n",
      "igen=1\n"
     ]
    }
   ],
   "source": [
    "files=[\"GEN_0_Relations.json\",\"GEN_1_Relations.json\"]\n",
    "vaild=re.compile(r\"GEN_(\\d+)_Relations.json\")\n",
    "maxigen=0\n",
    "for file in files:\n",
    "    igen=int(vaild.search(file)[1])\n",
    "    print(\"igen=%d\"%igen)\n",
    "    if igen>maxigen:\n",
    "        maxigen=igen\n",
    "igen=maxigen"
   ]
  },
  {
   "cell_type": "code",
   "execution_count": 5,
   "metadata": {},
   "outputs": [],
   "source": [
    "def random_sampling_LHS_np(nval,nsamples):\n",
    "    ###FAST RANDOM USE NUMPY\n",
    "    ranlist=np.random.random((nsamples,nval))\n",
    "    jarray=np.mgrid[0:nsamples,0:nval][0]\n",
    "    for colomn in jarray.T:\n",
    "        np.random.shuffle(colomn)    \n",
    "    ranlist=(ranlist+jarray)/nsamples\n",
    "    return ranlist"
   ]
  },
  {
   "cell_type": "code",
   "execution_count": 13,
   "metadata": {},
   "outputs": [
    {
     "name": "stdout",
     "output_type": "stream",
     "text": [
      "[[0.05041538 0.00511687 0.41681792 ... 0.37414489 0.84710859 0.46581621]\n",
      " [0.14037062 0.37784042 0.16754091 ... 0.44459251 0.76615093 0.16047981]\n",
      " [0.76179558 0.56954277 0.35530387 ... 0.83426663 0.43629266 0.02720996]\n",
      " ...\n",
      " [0.32877735 0.49447498 0.24085356 ... 0.6753207  0.5319209  0.19592004]\n",
      " [0.12569761 0.1060966  0.02587863 ... 0.39600835 0.60653143 0.00329924]\n",
      " [0.18613107 0.76148948 0.07404165 ... 0.5898645  0.26538611 0.97539246]]\n"
     ]
    }
   ],
   "source": [
    "arr=random_sampling_LHS_np(10,500)\n",
    "print(arr)"
   ]
  }
 ],
 "metadata": {
  "kernelspec": {
   "display_name": "base",
   "language": "python",
   "name": "python3"
  },
  "language_info": {
   "codemirror_mode": {
    "name": "ipython",
    "version": 3
   },
   "file_extension": ".py",
   "mimetype": "text/x-python",
   "name": "python",
   "nbconvert_exporter": "python",
   "pygments_lexer": "ipython3",
   "version": "3.11.4"
  }
 },
 "nbformat": 4,
 "nbformat_minor": 2
}
