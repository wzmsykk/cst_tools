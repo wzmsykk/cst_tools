{
 "cells": [
  {
   "cell_type": "code",
   "execution_count": 1,
   "metadata": {},
   "outputs": [],
   "source": [
    "\n",
    "\n",
    "from mode_util_base import read_coffs,result_stats,read_field1D,read_field1D_Complex,read_maxcoords\n",
    "from mode_util_base import mode_wavenumber_mnp,main_mode_type\n",
    "from mode_util_base import mode_wavenumber_m,mode_wavenumber_n,mode_wavenumber_p\n",
    "from modes_batch_v2 import read_field3D\n",
    "import numpy as np\n",
    "\n",
    "import matplotlib.pyplot as plt\n",
    "import pathlib"
   ]
  },
  {
   "cell_type": "code",
   "execution_count": 3,
   "metadata": {},
   "outputs": [
    {
     "name": "stdout",
     "output_type": "stream",
     "text": [
      "MODE:1\tType:TM\tFreq:674.807516758895\tTEMCoff:421.661001\tcustType:TM\n",
      "MODE:2\tType:HX\tFreq:842.005015049717\tTEMCoff:0.288799\tcustType:TE\n",
      "MODE:3\tType:HX\tFreq:1039.83850575027\tTEMCoff:8.922557\tcustType:TM\n",
      "MODE:4\tType:TM\tFreq:1052.93726960934\tTEMCoff:132.139811\tcustType:TM\n",
      "MODE:5\tType:HX\tFreq:1088.74922830929\tTEMCoff:0.287310\tcustType:TE\n",
      "MODE:6\tType:HX\tFreq:1348.40035013077\tTEMCoff:0.293614\tcustType:TE\n",
      "MODE:7\tType:HX\tFreq:1349.80369920197\tTEMCoff:3.436494\tcustType:TM\n",
      "MODE:8\tType:TM\tFreq:1360.10285695558\tTEMCoff:124.455173\tcustType:TM\n",
      "MODE:9\tType:HX\tFreq:1393.49666131084\tTEMCoff:7.591713\tcustType:TM\n",
      "MODE:10\tType:HX\tFreq:1427.93931760415\tTEMCoff:1.170448\tcustType:HX\n"
     ]
    },
    {
     "data": {
      "text/plain": [
       "[(1, 'TM', '674.807516758895', 421.661001447618, 'TM'),\n",
       " (2, 'HX', '842.005015049717', 0.28879881153292, 'TE'),\n",
       " (3, 'HX', '1039.83850575027', 8.92255699498655, 'TM'),\n",
       " (4, 'TM', '1052.93726960934', 132.139811459459, 'TM'),\n",
       " (5, 'HX', '1088.74922830929', 0.287310415536283, 'TE'),\n",
       " (6, 'HX', '1348.40035013077', 0.293613676716676, 'TE'),\n",
       " (7, 'HX', '1349.80369920197', 3.43649380282978, 'TM'),\n",
       " (8, 'TM', '1360.10285695558', 124.455173172073, 'TM'),\n",
       " (9, 'HX', '1393.49666131084', 7.59171337934322, 'TM'),\n",
       " (10, 'HX', '1427.93931760415', 1.17044777278298, 'HX')]"
      ]
     },
     "execution_count": 3,
     "metadata": {},
     "output_type": "execute_result"
    }
   ],
   "source": [
    "result_dir=pathlib.Path(r\"F:\\Project\\EigenModeRecg\\ResultFirst10\")\n",
    "result_stats(result_dir)\n"
   ]
  },
  {
   "cell_type": "code",
   "execution_count": 4,
   "metadata": {},
   "outputs": [
    {
     "data": {
      "text/plain": [
       "{'Max_Abs_Ez': {'xcoord': '-1',\n",
       "  'ycoord': '1',\n",
       "  'zcoord': '18',\n",
       "  'value': '6354895.5'},\n",
       " 'Sum_Abs_Ez': {'value': '380160053177.125'},\n",
       " 'Max_Abs_Hz': {'xcoord': '-137',\n",
       "  'ycoord': '119',\n",
       "  'zcoord': '44',\n",
       "  'value': '40.005012512207'},\n",
       " 'Sum_Abs_Hz': {'value': '279887.043321139'},\n",
       " 'TEM_Coffs': {'value': '421.661001447618'},\n",
       " 'TEM_Coffs_method2': {'value': '3605.39721083016'},\n",
       " 'Max_Abs_Ef': {'xcoord': '-19.5233588676384',\n",
       "  'ycoord': '43.8501819668448',\n",
       "  'zcoord': '34',\n",
       "  'rcoord': '48',\n",
       "  'fcoord': '1.98967534727354',\n",
       "  'value': '31332.4039138538'},\n",
       " 'Max_Abs_Hf': {'xcoord': '-44.462618632337',\n",
       "  'ycoord': '-122.160040702168',\n",
       "  'zcoord': '4',\n",
       "  'rcoord': '130',\n",
       "  'fcoord': '4.36332312998582',\n",
       "  'value': '10457.6366320276'},\n",
       " 'Model_Info': {'model_name': '3D', 'USER_STRUCT': 'Field'},\n",
       " 'HField_3D_info': {'xdims': '128', 'ydims': '128', 'zdims': '32'},\n",
       " 'EField_3D_info': {'xdims': '128', 'ydims': '128', 'zdims': '32'}}"
      ]
     },
     "execution_count": 4,
     "metadata": {},
     "output_type": "execute_result"
    }
   ],
   "source": [
    "read_coffs(result_dir/\"Mode_1_Coffs.txt\")"
   ]
  },
  {
   "cell_type": "code",
   "execution_count": 25,
   "metadata": {},
   "outputs": [],
   "source": [
    "def showModePlot(inputdir,modeindex):\n",
    "\n",
    "    rd=pathlib.Path(inputdir)\n",
    "    ec_path=rd.joinpath(\"Mode_%d_E_Circle.txt\" % modeindex)\n",
    "    _,e_circle=read_field1D_Complex(ec_path)\n",
    "    e_f=e_circle[:,9]\n",
    "    x_c=e_circle[:,4]\n",
    "\n",
    "    \n",
    "    plt.plot(x_c,e_f)\n",
    "\n",
    "    er_path=rd.joinpath(\"Mode_%d_E_Radius.txt\" % modeindex)\n",
    "    _,e_radius=read_field1D_Complex(er_path)\n",
    "    e_f=e_radius[:,9]\n",
    "    x_r=e_radius[:,3]\n",
    "\n",
    "\n",
    "\n",
    "    #对e_f积分\n",
    "    firstzero_found=False\n",
    "    for pos,elem in enumerate(x_r):\n",
    "        if elem>=0:\n",
    "            firstzero_found=True\n",
    "            break\n",
    "\n",
    "    e_f_cut=e_f[pos:]\n",
    "    int_e_f=np.zeros_like(e_f_cut)\n",
    "    for i in range(1,len(int_e_f)):\n",
    "        int_e_f[i]=int_e_f[i-1]+e_f_cut[i-1]\n",
    "    e_f_fin=e_f.copy()\n",
    "    e_f_fin[pos:]=int_e_f\n",
    "\n",
    "\n",
    "    fig=plt.figure()\n",
    "    plt.plot(x_r,e_f)\n",
    "    #plt.plot(x_r,e_f_fin)\n",
    "\n",
    "    ez_path=rd.joinpath(\"Mode_%d_E_ZLine.txt\" % modeindex)\n",
    "    _,e_zline=read_field1D_Complex(ez_path)\n",
    "    e_f=e_zline[:,9]\n",
    "    x_z=e_zline[:,2]\n",
    "\n",
    "\n",
    "\n",
    "    e_f=np.concatenate([-e_f[::-1],e_f])\n",
    "    x_z=np.concatenate([x_z,x_z+np.max(x_z)-np.min(x_z)])\n",
    "    fig=plt.figure()\n",
    "    plt.plot(x_z,e_f)\n",
    "\n",
    "    hc_path=rd.joinpath(\"Mode_%d_H_Circle.txt\" % modeindex)\n",
    "    _,h_circle=read_field1D_Complex(hc_path)\n",
    "    h_f=h_circle[:,9]\n",
    "    x_c=h_circle[:,4]\n",
    "    fig=plt.figure()\n",
    "    plt.plot(x_c,h_f)\n",
    "\n",
    "    hr_path=rd.joinpath(\"Mode_%d_H_Radius.txt\" % modeindex)\n",
    "    _,h_radius=read_field1D_Complex(hr_path)\n",
    "    h_f=h_radius[:,9]\n",
    "    x_r=h_radius[:,3]\n",
    "\n",
    "    #对h_f积分\n",
    "    firstzero_found=False\n",
    "    for pos,elem in enumerate(x_r):\n",
    "        if elem>=0:\n",
    "            firstzero_found=True\n",
    "            break\n",
    "\n",
    "    h_f_cut=h_f[pos:]\n",
    "    int_h_f=np.zeros_like(h_f_cut)\n",
    "    for i in range(1,len(int_h_f)):\n",
    "        int_h_f[i]=int_h_f[i-1]+h_f_cut[i-1]\n",
    "    h_f_fin=h_f.copy()\n",
    "    h_f_fin[pos:]=int_h_f\n",
    "\n",
    "\n",
    "    fig=plt.figure()\n",
    "    plt.plot(x_r,h_f_fin)\n",
    "    #plt.plot(x_r,h_f)\n",
    "\n",
    "    hz_path=rd.joinpath(\"Mode_%d_H_ZLine.txt\" % modeindex)\n",
    "    _,h_zline=read_field1D_Complex(hz_path)\n",
    "    h_f=h_zline[:,9]\n",
    "    x_z=h_zline[:,2]\n",
    "\n",
    "    h_f_2=h_f[::-1]\n",
    "    h_f=np.concatenate([h_f_2,h_f])\n",
    "    x_z=np.concatenate([x_z,x_z+np.max(x_z)-np.min(x_z)])\n",
    "    fig=plt.figure()\n",
    "    plt.plot(x_z,h_f)\n",
    "    \n",
    "    "
   ]
  },
  {
   "cell_type": "code",
   "execution_count": 26,
   "metadata": {},
   "outputs": [],
   "source": [
    "def showModePlot2(inputdir,modeindex,slice=16):\n",
    "    pass\n"
   ]
  },
  {
   "cell_type": "code",
   "execution_count": null,
   "metadata": {},
   "outputs": [],
   "source": []
  },
  {
   "cell_type": "code",
   "execution_count": 5,
   "metadata": {},
   "outputs": [],
   "source": [
    "def mode_wavenumber_nh(rlist,fcomp,log=False): #H 边界处非0\n",
    "    #find N\n",
    "    nzeros=0\n",
    "    \n",
    "    YFR=fcomp\n",
    "    #FROM MIDDLE TO START\n",
    "    while YFR[-1]==0:\n",
    "        YFR=YFR[:-1]#去除末尾的0元素\n",
    "    while YFR[0]==0:\n",
    "        YFR=YFR[1:]\n",
    "\n",
    "\n",
    "    h_f=YFR.copy()\n",
    "    #对h_f积分\n",
    "    firstzero_found=False\n",
    "    for pos,elem in enumerate(rlist):\n",
    "        if elem>=0:\n",
    "            firstzero_found=True\n",
    "            break\n",
    "\n",
    "    h_f_cut=h_f[pos:]\n",
    "    int_h_f=np.zeros_like(h_f_cut)\n",
    "    for i in range(1,len(int_h_f)):\n",
    "        int_h_f[i]=int_h_f[i-1]+h_f_cut[i-1]\n",
    "    h_f_fin=h_f.copy()\n",
    "    h_f_fin[pos:]=int_h_f\n",
    "\n",
    "\n",
    "\n",
    "    YFR=h_f_fin[pos:]\n",
    "    if len(YFR)==0:\n",
    "        return 0\n",
    "    YFR=YFR-YFR[-1]\n",
    "    ntps=len(YFR) #total points\n",
    "    \n",
    "    #平均化\n",
    "    #YMR=np.zeros_like(YFR)\n",
    "    #for i in range(0,len(YFR)-1):\n",
    "    #    YMR[i]=(YFR[i]+YFR[i+1])/2\n",
    "    #YFR=YMR\n",
    "\n",
    "\n",
    "    for i in range (0,ntps-1): \n",
    "        if YFR[i]*YFR[i+1]<0:\n",
    "            nzeros+=1\n",
    "            if log:\n",
    "                print(\"Z P at %d v=%f\" % (i,YFR[i]))\n",
    "        elif YFR[i]==0:\n",
    "            nzeros+=1    \n",
    "            if log:\n",
    "                print(\"Z P at %d v=%f\" % (i,YFR[i]))\n",
    "    if YFR[ntps-1]==0:\n",
    "        nzeros+=1\n",
    "        if log:    \n",
    "            print(\"Z P at %d v=%f\" % (i,YFR[i]))\n",
    "    return nzeros\n"
   ]
  },
  {
   "cell_type": "code",
   "execution_count": 6,
   "metadata": {},
   "outputs": [],
   "source": [
    "def mode_wavenumber_ne(rlist,fcomp,log=False): #E 边界处为0\n",
    "    #find N\n",
    "    nzeros=0\n",
    "    \n",
    "    YFR=fcomp\n",
    "    #FROM START TO END\n",
    "    while YFR[-1]==0:\n",
    "        YFR=YFR[:-1]#去除末尾的0元素\n",
    "    while YFR[0]==0:\n",
    "        YFR=YFR[1:]#去除头部的0元素\n",
    "\n",
    "    ntps=len(YFR) #total points\n",
    "    \n",
    "    \n",
    "    #中间处是否为0？\n",
    "    mid_zero=False\n",
    "    cut_range=15 #排除15个点\n",
    "    threshold_zero=0.05 \n",
    "    midpos=int(ntps/2)\n",
    "    maxabsy=np.max(np.abs(YFR))\n",
    "    if abs(YFR[midpos])/maxabsy<threshold_zero:\n",
    "        if log:\n",
    "            print(\"EZ P at MidPos %d\" %midpos )\n",
    "        mid_zero=True\n",
    "    \n",
    "    for i in list(range(0,midpos-cut_range))+list(range(midpos+cut_range,ntps-1)): \n",
    "        if YFR[i]*YFR[i+1]<0:\n",
    "            nzeros+=1\n",
    "            if log:\n",
    "                print(\"EZ P at %d v=%f\" % (i,YFR[i]))\n",
    "        elif YFR[i]==0:\n",
    "            nzeros+=1    \n",
    "            if log:\n",
    "                print(\"EZ P at %d v=%f\" % (i,YFR[i]))\n",
    "    if YFR[ntps-1]==0:\n",
    "        nzeros+=1\n",
    "        if log:    \n",
    "            print(\"EZ_SP P at %d v=%f\" % (i,YFR[i]))\n",
    "    \n",
    "    if mid_zero:\n",
    "        nzeros=nzeros+1\n",
    "    nzeros=nzeros+2\n",
    "    if nzeros % 2==0:\n",
    "        nzeros=nzeros/2\n",
    "    else:\n",
    "        nzeros=(nzeros-1)/2\n",
    "    return nzeros\n"
   ]
  },
  {
   "cell_type": "code",
   "execution_count": 7,
   "metadata": {},
   "outputs": [],
   "source": [
    "def mode_type_full(resultdir,modeindex):\n",
    "    import pathlib\n",
    "    mainmode=main_mode_type(resultdir,modeindex,10,0.2)\n",
    "    rd=pathlib.Path(resultdir)\n",
    "\n",
    "    ec_path=rd.joinpath(\"Mode_%d_E_Circle.txt\" % modeindex)\n",
    "    _,e_circle=read_field1D_Complex(ec_path)\n",
    "    e_f=e_circle[:,9]\n",
    "    x_c=e_circle[:,3]\n",
    "    m_e=mode_wavenumber_m(x_c,e_f)\n",
    "\n",
    "    er_path=rd.joinpath(\"Mode_%d_E_Radius.txt\" % modeindex)\n",
    "    _,e_radius=read_field1D_Complex(er_path)\n",
    "    e_f=e_radius[:,9]\n",
    "    e_z=e_radius[:,7]\n",
    "    x_r=e_radius[:,3]\n",
    "    \n",
    "    n_e=mode_wavenumber_ne(x_r,e_f)\n",
    "    \n",
    "\n",
    "    ez_path=rd.joinpath(\"Mode_%d_E_ZLine.txt\" % modeindex)\n",
    "    _,e_zline=read_field1D_Complex(ez_path)\n",
    "    e_f=e_zline[:,9]\n",
    "    x_z=e_zline[:,3]\n",
    "\n",
    "    e_f=np.concatenate([-e_f[::-1],e_f])\n",
    "    p_e=mode_wavenumber_p(x_z,e_f)\n",
    "\n",
    "    hc_path=rd.joinpath(\"Mode_%d_H_Circle.txt\" % modeindex)\n",
    "    _,h_circle=read_field1D_Complex(hc_path)\n",
    "    h_f=h_circle[:,9]\n",
    "    x_c=h_circle[:,3]\n",
    "    m_h=mode_wavenumber_m(x_c,h_f)\n",
    "\n",
    "    hr_path=rd.joinpath(\"Mode_%d_H_Radius.txt\" % modeindex)\n",
    "    _,h_radius=read_field1D_Complex(hr_path)\n",
    "    h_f=h_radius[:,9]\n",
    "    h_z=h_radius[:,7]\n",
    "    x_r=h_radius[:,3]\n",
    "\n",
    "    \n",
    "    \n",
    "\n",
    "\n",
    "    n_h=mode_wavenumber_nh(x_r,h_f)\n",
    "    \n",
    "    hz_path=rd.joinpath(\"Mode_%d_H_ZLine.txt\" % modeindex)\n",
    "    _,h_zline=read_field1D_Complex(hz_path)\n",
    "    h_f=h_zline[:,9]\n",
    "    x_z=h_zline[:,3]\n",
    "\n",
    "    h_f_2=h_f[::-1]\n",
    "    h_f=np.concatenate([h_f_2,h_f])\n",
    "    p_h=mode_wavenumber_p(x_z,h_f)\n",
    "\n",
    "    return mainmode,m_e,n_e,p_e,m_h,n_h,p_h"
   ]
  },
  {
   "cell_type": "code",
   "execution_count": 8,
   "metadata": {},
   "outputs": [
    {
     "data": {
      "text/plain": [
       "('TM', 10.0, 7.0, 2.0, 0.0, 1, 0.0)"
      ]
     },
     "execution_count": 8,
     "metadata": {},
     "output_type": "execute_result"
    }
   ],
   "source": [
    "mode_type_full(result_dir,1)\n"
   ]
  },
  {
   "cell_type": "code",
   "execution_count": 9,
   "metadata": {},
   "outputs": [],
   "source": [
    "def mode_type_final(resultdir,modeindex):\n",
    "    mainmode,m_e,n_e,p_e,m_h,n_h,p_h=mode_type_full(resultdir,modeindex)\n",
    "    if mainmode==\"TM\":\n",
    "        M=m_h\n",
    "        N=n_h\n",
    "        P=p_h\n",
    "        if M!=0 and N>1:\n",
    "            N=N-1\n",
    "    elif mainmode==\"TE\":\n",
    "        M=m_e\n",
    "        N=n_e\n",
    "        P=p_e\n",
    "    else:\n",
    "        M=-1\n",
    "        N=-1\n",
    "        P=-1\n",
    "    ml=[modeindex,mainmode,M,N,P]\n",
    "    return ml\n"
   ]
  },
  {
   "cell_type": "code",
   "execution_count": 10,
   "metadata": {},
   "outputs": [],
   "source": [
    "def mode_type_final2(resultdir,modeindex):\n",
    "    mainmode,m_e,n_e,p_e,m_h,n_h,p_h=mode_type_full(resultdir,modeindex)\n",
    "    if mainmode==\"TM\":\n",
    "        M=m_h\n",
    "        N=n_h\n",
    "        P=p_h\n",
    "        if m_h!=0 and n_h>1:\n",
    "            n_h=n_h-1\n",
    "    elif mainmode==\"TE\":\n",
    "        M=m_e\n",
    "        N=n_e\n",
    "        P=p_e\n",
    "    else:\n",
    "        mainmode=main_mode_type(resultdir,modeindex,1,1)        \n",
    "        if mainmode==\"TM\":\n",
    "            M=m_h\n",
    "            N=n_h\n",
    "            P=p_h\n",
    "        if m_h!=0 and n_h>1:\n",
    "            n_h=n_h-1\n",
    "        elif mainmode==\"TE\":\n",
    "            M=m_e\n",
    "            N=n_e\n",
    "            P=p_e\n",
    "        mainmode=\"HX_\"+mainmode\n",
    "    ml=[modeindex,mainmode,int(m_h),int(n_h),int(p_h),int(m_e),int(n_e),int(p_e),0]\n",
    "    #last 0 indicates it is not manually updated \n",
    "    return ml"
   ]
  },
  {
   "cell_type": "code",
   "execution_count": 11,
   "metadata": {},
   "outputs": [],
   "source": [
    "def autocheck(result,printfailure=False):\n",
    "\n",
    "    tms=[]\n",
    "    tes=[]\n",
    "    flag=True\n",
    "    faultlist=[]\n",
    "    for i,res in enumerate(result):\n",
    "        iflag=False\n",
    "        faulttype=1\n",
    "        # if res[8] == 1: ###manually corrected mode \n",
    "        #     if res[1] in ['TM','HX_TM']:\n",
    "        #         tms.append(res)\n",
    "        #     elif res[1] in ['TE','HX_TE']:\n",
    "        #         tes.append(res)\n",
    "        #     faulttype=-1\n",
    "        #     continue\n",
    "        if res[8] == 2: ###abnormal mode ignored\n",
    "            faulttype=-1\n",
    "            if printfailure:\n",
    "                print(\"Ignore abnormal mode At %d. \"%(i+1))\n",
    "            continue\n",
    "        if res[1] in ['TM','HX_TM']:\n",
    "            if len(tms)==0:\n",
    "                tms.append(res)\n",
    "                faulttype=-1\n",
    "                continue\n",
    "            else:\n",
    "                selfv=[res[2],res[3],res[4]]\n",
    "                exppar1=[res[2]-1,res[3],res[4]]\n",
    "                exppar2=[res[2],res[3]-1,res[4]]\n",
    "                exppar3=[res[2],res[3],res[4]-1]\n",
    "                exppar=[exppar1,exppar2,exppar3]\n",
    "                for j,jres in enumerate(reversed(tms)):\n",
    "                    proc=[jres[2],jres[3],jres[4]]                    \n",
    "                    if proc == selfv:\n",
    "                        iflag=False\n",
    "                        flag=False\n",
    "                        faulttype=2\n",
    "                        break\n",
    "                    if proc in exppar:\n",
    "                        tms.append(res)\n",
    "                        iflag=True\n",
    "                        faulttype=-1\n",
    "                        break\n",
    "                    else:\n",
    "                        continue\n",
    "                #final\n",
    "                \n",
    "                    \n",
    "        if res[1] in ['TE','HX_TE']:\n",
    "            if len(tes)==0:\n",
    "                tes.append(res)\n",
    "                faulttype=-1\n",
    "                continue\n",
    "            else:\n",
    "                selfv=[res[5],res[6],res[7]]\n",
    "                exppar1=[res[5]-1,res[6],res[7]]\n",
    "                exppar2=[res[5],res[6]-1,res[7]]\n",
    "                exppar3=[res[5],res[6],res[7]-1]\n",
    "                exppar=[exppar1,exppar2,exppar3]\n",
    "                for j,jres in enumerate(reversed(tes)):\n",
    "                    proc=[jres[5],jres[6],jres[7]]\n",
    "                    if proc == selfv:\n",
    "                        iflag=False\n",
    "                        flag=False\n",
    "                        faulttype=2\n",
    "                        break\n",
    "                    if proc in exppar:\n",
    "                        tes.append(res)\n",
    "                        iflag=True\n",
    "                        faulttype=-1\n",
    "                        break\n",
    "                    else:\n",
    "                        continue\n",
    "                \n",
    "        if iflag==False:      \n",
    "            ifault={\n",
    "                \"modeIndex\":i+1,\n",
    "                \"falutType\":faulttype\n",
    "            }      \n",
    "            faultlist.append(ifault)\n",
    "            if printfailure:\n",
    "                print(\"Test Fail At %d. \"%(i+1),end=' ')\n",
    "            if faulttype==1:\n",
    "                if printfailure:\n",
    "                    print(\"Found Orphan Mode\",end=' ')\n",
    "            elif faulttype==2:\n",
    "                if printfailure:\n",
    "                    print(\"Found Duplicated Mode\",end=' ')\n",
    "            print(res)\n",
    "        \n",
    "    if flag:\n",
    "        print(\"autocheck_pass\")\n",
    "    else:\n",
    "        print(\"autocheck_fail\")\n",
    "    return flag,faultlist\n",
    "                    "
   ]
  },
  {
   "cell_type": "code",
   "execution_count": 12,
   "metadata": {},
   "outputs": [],
   "source": [
    "from copy import deepcopy\n",
    "def manual_fix(modetypelist,fixlist=None,printhost=True):\n",
    "    ulist=deepcopy(modetypelist)\n",
    "    ###apply manual fix \n",
    "    if fixlist is None:\n",
    "        return modetypelist\n",
    "    for fix in fixlist:\n",
    "        ind2fix=fix[0]-1\n",
    "        ftype_raw=fix[1]   \n",
    "             \n",
    "        if ftype_raw in ['TM','HX_TM']:\n",
    "            ind1=fix[2]\n",
    "            ind2=fix[3]\n",
    "            ind3=fix[4]\n",
    "            ulist[ind2fix][1]='TM'\n",
    "            ulist[ind2fix][2]=ind1\n",
    "            ulist[ind2fix][3]=ind2\n",
    "            ulist[ind2fix][4]=ind3\n",
    "            ulist[ind2fix][8]=1 #Fixed Flag\n",
    "        elif ftype_raw in ['TE','HX_TE']:\n",
    "            ind1=fix[2]\n",
    "            ind2=fix[3]\n",
    "            ind3=fix[4]\n",
    "            ulist[ind2fix][1]='TE'\n",
    "            ulist[ind2fix][5]=ind1\n",
    "            ulist[ind2fix][6]=ind2\n",
    "            ulist[ind2fix][7]=ind3\n",
    "            ulist[ind2fix][8]=1 #Fixed Flag\n",
    "        else:\n",
    "            \n",
    "            ulist[ind2fix][8]=2 #Abnormal Mode Flag\n",
    "            continue\n",
    "        if printhost:          \n",
    "            \n",
    "            rs=\"Fixed at {}, {} {} {} {}\".format(ind2fix+1,ftype_raw,ind1,ind2,ind3)\n",
    "            print(rs)\n",
    "    return ulist"
   ]
  },
  {
   "cell_type": "code",
   "execution_count": 13,
   "metadata": {},
   "outputs": [],
   "source": [
    "def result_for_copy(modetypelist,result_stats):\n",
    "    ###fixlist=[(modeindex:1 based,modetype,ind1,ind2,ind3)]\n",
    "    rc=[]\n",
    "    \n",
    "    for i,imode in enumerate(modetypelist):\n",
    "        freq=result_stats[i][2]\n",
    "        ftype_raw=imode[1]\n",
    "        if ftype_raw in ['TM','HX_TM']:\n",
    "            ftype='TM'\n",
    "            ind1=int(imode[2])\n",
    "            ind2=int(imode[3])\n",
    "            ind3=int(imode[4])\n",
    "        else:\n",
    "            ftype='TE'\n",
    "            ind1=int(imode[5])\n",
    "            ind2=int(imode[6])\n",
    "            ind3=int(imode[7])\n",
    "        \n",
    "        rc.append(\"{}\\t{}\\t{}\\t{}\\t{}\".format(freq,ftype,ind1,ind2,ind3))\n",
    "    for line in rc:\n",
    "        print(line)\n",
    "def result_for_copy_ex(modetypelist,result_stats,verbose=0):\n",
    "    ###fixlist=[(modeindex:1 based,modetype,ind1,ind2,ind3)]\n",
    "    rc=[]\n",
    "    \n",
    "    for i,imode in enumerate(modetypelist):\n",
    "        freq=result_stats[i][2]\n",
    "        ftype_raw=imode[1]\n",
    "        if ftype_raw in ['TM','HX_TM']:\n",
    "            ftype='TM'\n",
    "            ind1=int(imode[2])\n",
    "            ind2=int(imode[3])\n",
    "            ind3=int(imode[4])\n",
    "        else:\n",
    "            ftype='TE'\n",
    "            ind1=int(imode[5])\n",
    "            ind2=int(imode[6])\n",
    "            ind3=int(imode[7])\n",
    "        if verbose==0:\n",
    "            rc.append(\"{}\\t{}\\t{}\\t{}\\t{}\".format(freq,ftype,ind1,ind2,ind3))\n",
    "        elif verbose>0:\n",
    "            isFixed=False\n",
    "            isAbnormal=False\n",
    "            if imode[8]==1:\n",
    "                isFixed=True\n",
    "            elif imode[8]==2:\n",
    "                isAbnormal=True\n",
    "            rc.append(\"{}\\t{}\\t{}\\t{}\\t{}\\t{}\\t{}\".format(freq,ftype,ind1,ind2,ind3,str(isAbnormal),str(isFixed)))\n",
    "        \n",
    "    for line in rc:\n",
    "        print(line)\n",
    "    #return rc"
   ]
  },
  {
   "cell_type": "code",
   "execution_count": 14,
   "metadata": {},
   "outputs": [
    {
     "name": "stdout",
     "output_type": "stream",
     "text": [
      "[1, 'TM', 0, 1, 0, 10, 7, 2, 0]\n",
      "[2, 'HX_TE', 1, 1, 1, 1, 1, 1, 0]\n",
      "[3, 'HX_TM', 1, 1, 0, 1, 1, 2, 0]\n",
      "[4, 'TM', 0, 1, 1, 11, 3, 5, 0]\n",
      "[5, 'HX_TE', 2, 1, 1, 2, 1, 1, 0]\n",
      "[6, 'HX_TE', 3, 1, 1, 3, 1, 1, 0]\n",
      "[7, 'HX_TM', 2, 1, 0, 2, 1, 2, 0]\n",
      "[8, 'TM', 0, 2, 0, 11, 7, 2, 0]\n",
      "[9, 'HX_TM', 1, 1, 1, 1, 1, 1, 0]\n",
      "[10, 'HX_TM', 1, 1, 0, 1, 1, 2, 0]\n"
     ]
    }
   ],
   "source": [
    "result_dir=result_dir\n",
    "u=[]\n",
    "for i in range(1,11):\n",
    "    c=mode_type_final2(result_dir,i)\n",
    "    print(mode_type_final2(result_dir,i))\n",
    "    u.append(c)\n",
    "###fix"
   ]
  },
  {
   "cell_type": "code",
   "execution_count": 39,
   "metadata": {},
   "outputs": [
    {
     "name": "stdout",
     "output_type": "stream",
     "text": [
      "Fixed at 7, HX_TM 1 1 1\n"
     ]
    },
    {
     "ename": "IndexError",
     "evalue": "list index out of range",
     "output_type": "error",
     "traceback": [
      "\u001b[1;31m---------------------------------------------------------------------------\u001b[0m",
      "\u001b[1;31mIndexError\u001b[0m                                Traceback (most recent call last)",
      "Cell \u001b[1;32mIn[39], line 9\u001b[0m\n\u001b[0;32m      7\u001b[0m fixlist\u001b[38;5;241m+\u001b[39m\u001b[38;5;241m=\u001b[39m[[\u001b[38;5;241m25\u001b[39m, \u001b[38;5;124m'\u001b[39m\u001b[38;5;124mHX_TM\u001b[39m\u001b[38;5;124m'\u001b[39m, \u001b[38;5;241m1\u001b[39m, \u001b[38;5;241m2\u001b[39m, \u001b[38;5;241m1\u001b[39m],[\u001b[38;5;241m28\u001b[39m, \u001b[38;5;124m'\u001b[39m\u001b[38;5;124mTM\u001b[39m\u001b[38;5;124m'\u001b[39m, \u001b[38;5;241m0\u001b[39m, \u001b[38;5;241m3\u001b[39m, \u001b[38;5;241m0\u001b[39m],[\u001b[38;5;241m30\u001b[39m, \u001b[38;5;124m'\u001b[39m\u001b[38;5;124mHX_TE\u001b[39m\u001b[38;5;124m'\u001b[39m, \u001b[38;5;241m6\u001b[39m, \u001b[38;5;241m1\u001b[39m, \u001b[38;5;241m1\u001b[39m],[\u001b[38;5;241m33\u001b[39m, \u001b[38;5;124m'\u001b[39m\u001b[38;5;124mHX_TM\u001b[39m\u001b[38;5;124m'\u001b[39m, \u001b[38;5;241m4\u001b[39m, \u001b[38;5;241m1\u001b[39m, \u001b[38;5;241m2\u001b[39m],[\u001b[38;5;241m36\u001b[39m, \u001b[38;5;124m'\u001b[39m\u001b[38;5;124mHX_TM\u001b[39m\u001b[38;5;124m'\u001b[39m, \u001b[38;5;241m3\u001b[39m, \u001b[38;5;241m2\u001b[39m, \u001b[38;5;241m0\u001b[39m], [\u001b[38;5;241m37\u001b[39m, \u001b[38;5;124m'\u001b[39m\u001b[38;5;124mHX_TM\u001b[39m\u001b[38;5;124m'\u001b[39m, \u001b[38;5;241m2\u001b[39m, \u001b[38;5;241m2\u001b[39m,\u001b[38;5;241m1\u001b[39m]]\n\u001b[0;32m      8\u001b[0m fixlist\u001b[38;5;241m+\u001b[39m\u001b[38;5;241m=\u001b[39m[[\u001b[38;5;241m40\u001b[39m, \u001b[38;5;124m'\u001b[39m\u001b[38;5;124mHX_TM\u001b[39m\u001b[38;5;124m'\u001b[39m, \u001b[38;5;241m1\u001b[39m,\u001b[38;5;241m3\u001b[39m, \u001b[38;5;241m0\u001b[39m],[\u001b[38;5;241m41\u001b[39m, \u001b[38;5;124m'\u001b[39m\u001b[38;5;124mTM\u001b[39m\u001b[38;5;124m'\u001b[39m, \u001b[38;5;241m0\u001b[39m, \u001b[38;5;241m3\u001b[39m, \u001b[38;5;241m1\u001b[39m],[\u001b[38;5;241m43\u001b[39m, \u001b[38;5;124m'\u001b[39m\u001b[38;5;124mHX_TE\u001b[39m\u001b[38;5;124m'\u001b[39m, \u001b[38;5;241m7\u001b[39m, \u001b[38;5;241m1\u001b[39m, \u001b[38;5;241m1\u001b[39m], [\u001b[38;5;241m44\u001b[39m, \u001b[38;5;124m'\u001b[39m\u001b[38;5;124mHX_TE\u001b[39m\u001b[38;5;124m'\u001b[39m, \u001b[38;5;241m2\u001b[39m, \u001b[38;5;241m2\u001b[39m, \u001b[38;5;241m3\u001b[39m],[\u001b[38;5;241m45\u001b[39m, \u001b[38;5;124m'\u001b[39m\u001b[38;5;124mTM\u001b[39m\u001b[38;5;124m'\u001b[39m, \u001b[38;5;241m0\u001b[39m, \u001b[38;5;241m1\u001b[39m, \u001b[38;5;241m3\u001b[39m],[\u001b[38;5;241m50\u001b[39m, \u001b[38;5;124m'\u001b[39m\u001b[38;5;124mHX_TM\u001b[39m\u001b[38;5;124m'\u001b[39m, \u001b[38;5;241m4\u001b[39m, \u001b[38;5;241m2\u001b[39m, \u001b[38;5;241m0\u001b[39m]]\n\u001b[1;32m----> 9\u001b[0m f_rsult\u001b[38;5;241m=\u001b[39mmanual_fix(u,fixlist,\u001b[38;5;28;01mTrue\u001b[39;00m)\n\u001b[0;32m     10\u001b[0m \u001b[38;5;66;03m###fixend\u001b[39;00m\n\u001b[0;32m     11\u001b[0m autocheck(f_rsult,printfailure\u001b[38;5;241m=\u001b[39m\u001b[38;5;28;01mTrue\u001b[39;00m)\n",
      "Cell \u001b[1;32mIn[34], line 15\u001b[0m, in \u001b[0;36mmanual_fix\u001b[1;34m(modetypelist, fixlist, printhost)\u001b[0m\n\u001b[0;32m     13\u001b[0m ind2\u001b[38;5;241m=\u001b[39mfix[\u001b[38;5;241m3\u001b[39m]\n\u001b[0;32m     14\u001b[0m ind3\u001b[38;5;241m=\u001b[39mfix[\u001b[38;5;241m4\u001b[39m]\n\u001b[1;32m---> 15\u001b[0m ulist[ind2fix][\u001b[38;5;241m1\u001b[39m]\u001b[38;5;241m=\u001b[39m\u001b[38;5;124m'\u001b[39m\u001b[38;5;124mTM\u001b[39m\u001b[38;5;124m'\u001b[39m\n\u001b[0;32m     16\u001b[0m ulist[ind2fix][\u001b[38;5;241m2\u001b[39m]\u001b[38;5;241m=\u001b[39mind1\n\u001b[0;32m     17\u001b[0m ulist[ind2fix][\u001b[38;5;241m3\u001b[39m]\u001b[38;5;241m=\u001b[39mind2\n",
      "\u001b[1;31mIndexError\u001b[0m: list index out of range"
     ]
    }
   ],
   "source": [
    "#[22,\"Abnormal\"] [23, 'TM', 1, 2, 0]\n",
    "fixlist=[]\n",
    "fixlist+=[]\n",
    "fixlist+=[]\n",
    "fixlist+=[]\n",
    "fixlist+=[[7, 'HX_TM', 1, 1, 1],[14, 'HX_TM', 2, 1, 1],[15, 'HX_TM', 1, 2, 0],[20, 'HX_TE', 5, 1, 1],[22, 'HX_TM', 3, 1, 1],[24, 'HX_TM', 2, 2, 0]]\n",
    "fixlist+=[[25, 'HX_TM', 1, 2, 1],[28, 'TM', 0, 3, 0],[30, 'HX_TE', 6, 1, 1],[33, 'HX_TM', 4, 1, 2],[36, 'HX_TM', 3, 2, 0], [37, 'HX_TM', 2, 2,1]]\n",
    "fixlist+=[[40, 'HX_TM', 1,3, 0],[41, 'TM', 0, 3, 1],[43, 'HX_TE', 7, 1, 1], [44, 'HX_TE', 2, 2, 3],[45, 'TM', 0, 1, 3],[50, 'HX_TM', 4, 2, 0]]\n",
    "f_rsult=manual_fix(u,fixlist,True)\n",
    "###fixend\n",
    "autocheck(f_rsult,printfailure=True)\n",
    "rlist=result_stats(result_dir,False)\n"
   ]
  },
  {
   "cell_type": "code",
   "execution_count": 15,
   "metadata": {},
   "outputs": [
    {
     "ename": "NameError",
     "evalue": "name 'f_rsult' is not defined",
     "output_type": "error",
     "traceback": [
      "\u001b[1;31m---------------------------------------------------------------------------\u001b[0m",
      "\u001b[1;31mNameError\u001b[0m                                 Traceback (most recent call last)",
      "Cell \u001b[1;32mIn[15], line 1\u001b[0m\n\u001b[1;32m----> 1\u001b[0m result_for_copy_ex(f_rsult,rlist,verbose\u001b[38;5;241m=\u001b[39m\u001b[38;5;241m1\u001b[39m)\n",
      "\u001b[1;31mNameError\u001b[0m: name 'f_rsult' is not defined"
     ]
    }
   ],
   "source": [
    "result_for_copy_ex(f_rsult,rlist,verbose=1)"
   ]
  },
  {
   "cell_type": "code",
   "execution_count": null,
   "metadata": {},
   "outputs": [
    {
     "data": {
      "image/png": "[encoded data removed]",
      "text/plain": [
       "<Figure size 432x288 with 1 Axes>"
      ]
     },
     "metadata": {
      "needs_background": "light"
     },
     "output_type": "display_data"
    },
    {
     "data": {
      "image/png": "[encoded data removed]",
      "text/plain": [
       "<Figure size 432x288 with 1 Axes>"
      ]
     },
     "metadata": {
      "needs_background": "light"
     },
     "output_type": "display_data"
    },
    {
     "data": {
      "image/png": "[encoded data removed]",
      "text/plain": [
       "<Figure size 432x288 with 1 Axes>"
      ]
     },
     "metadata": {
      "needs_background": "light"
     },
     "output_type": "display_data"
    },
    {
     "data": {
      "image/png": "[encoded data removed]",
      "text/plain": [
       "<Figure size 432x288 with 1 Axes>"
      ]
     },
     "metadata": {
      "needs_background": "light"
     },
     "output_type": "display_data"
    },
    {
     "data": {
      "image/png": "[encoded data removed]",
      "text/plain": [
       "<Figure size 432x288 with 1 Axes>"
      ]
     },
     "metadata": {
      "needs_background": "light"
     },
     "output_type": "display_data"
    },
    {
     "data": {
      "image/png": "[encoded data removed]",
      "text/plain": [
       "<Figure size 432x288 with 1 Axes>"
      ]
     },
     "metadata": {
      "needs_background": "light"
     },
     "output_type": "display_data"
    }
   ],
   "source": [
    "showModePlot(result_dir,22)"
   ]
  },
  {
   "cell_type": "code",
   "execution_count": null,
   "metadata": {},
   "outputs": [],
   "source": [
    "def real_ys(resultdir):\n",
    "    rd=pathlib.Path(result_dir)\n",
    "    re_path=rd.joinpath(\"TRUE.txt\")\n",
    "    fp=open(re_path,\"r\")\n",
    "    lines=[]\n",
    "    y_list=[]\n",
    "    lines=fp.readlines()\n",
    "    for line in lines:\n",
    "        words=line.split()\n",
    "        #print(words)\n",
    "        if len(words)!=5:\n",
    "            continue\n",
    "        ml=list()\n",
    "        ml.append(int(words[0]))\n",
    "        ml.append(words[1])\n",
    "        ml.append(int(words[2]))\n",
    "        ml.append(int(words[3]))\n",
    "        ml.append(int(words[4]))\n",
    "        y_list.append(ml)\n",
    "    return y_list\n",
    "\n",
    "def predict_ys(resultdir,totalmodes):\n",
    "    py_list=[]\n",
    "    for i in range(1,totalmodes+1):\n",
    "        py_list.append(mode_type_final(result_dir,i))\n",
    "    return py_list\n",
    "    \n",
    "def valis(resultdir,totalmodes):\n",
    "    y_list=real_ys(resultdir)\n",
    "    py_list=predict_ys(resultdir,totalmodes)\n",
    "    for i in range(totalmodes):\n",
    "        flag=False        \n",
    "        if y_list[i][1]!=py_list[i][1]:\n",
    "            print(\"TYPE\",end=\" \")\n",
    "            flag=True\n",
    "        if y_list[i][2]!=py_list[i][2]:\n",
    "            flag=True\n",
    "            print(\"M\", end=\" \")\n",
    "        if y_list[i][3]!=py_list[i][3]:\n",
    "            flag=True\n",
    "            print(\"N\", end=\" \")\n",
    "        if y_list[i][4]!=py_list[i][4]:\n",
    "            flag=True\n",
    "            print(\"P\", end=\" \")\n",
    "        if flag==True:\n",
    "            print(\"MISMATCH!\",y_list[i],py_list[i])\n",
    "\n",
    "\n"
   ]
  },
  {
   "cell_type": "code",
   "execution_count": null,
   "metadata": {},
   "outputs": [
    {
     "ename": "FileNotFoundError",
     "evalue": "[Errno 2] No such file or directory: '\\\\\\\\172.1.10.232\\\\pillref_30_result\\\\R_190_L_230\\\\TRUE.txt'",
     "output_type": "error",
     "traceback": [
      "\u001b[1;31m---------------------------------------------------------------------------\u001b[0m",
      "\u001b[1;31mFileNotFoundError\u001b[0m                         Traceback (most recent call last)",
      "\u001b[1;32m~\\AppData\\Local\\Temp\\1/ipykernel_11380/1560330703.py\u001b[0m in \u001b[0;36m<module>\u001b[1;34m\u001b[0m\n\u001b[1;32m----> 1\u001b[1;33m \u001b[0mvalis\u001b[0m\u001b[1;33m(\u001b[0m\u001b[0mresult_dir\u001b[0m\u001b[1;33m,\u001b[0m\u001b[1;36m10\u001b[0m\u001b[1;33m)\u001b[0m\u001b[1;33m\u001b[0m\u001b[1;33m\u001b[0m\u001b[0m\n\u001b[0m",
      "\u001b[1;32m~\\AppData\\Local\\Temp\\1/ipykernel_11380/489953988.py\u001b[0m in \u001b[0;36mvalis\u001b[1;34m(resultdir, totalmodes)\u001b[0m\n\u001b[0;32m     27\u001b[0m \u001b[1;33m\u001b[0m\u001b[0m\n\u001b[0;32m     28\u001b[0m \u001b[1;32mdef\u001b[0m \u001b[0mvalis\u001b[0m\u001b[1;33m(\u001b[0m\u001b[0mresultdir\u001b[0m\u001b[1;33m,\u001b[0m\u001b[0mtotalmodes\u001b[0m\u001b[1;33m)\u001b[0m\u001b[1;33m:\u001b[0m\u001b[1;33m\u001b[0m\u001b[1;33m\u001b[0m\u001b[0m\n\u001b[1;32m---> 29\u001b[1;33m     \u001b[0my_list\u001b[0m\u001b[1;33m=\u001b[0m\u001b[0mreal_ys\u001b[0m\u001b[1;33m(\u001b[0m\u001b[0mresultdir\u001b[0m\u001b[1;33m)\u001b[0m\u001b[1;33m\u001b[0m\u001b[1;33m\u001b[0m\u001b[0m\n\u001b[0m\u001b[0;32m     30\u001b[0m     \u001b[0mpy_list\u001b[0m\u001b[1;33m=\u001b[0m\u001b[0mpredict_ys\u001b[0m\u001b[1;33m(\u001b[0m\u001b[0mresultdir\u001b[0m\u001b[1;33m,\u001b[0m\u001b[0mtotalmodes\u001b[0m\u001b[1;33m)\u001b[0m\u001b[1;33m\u001b[0m\u001b[1;33m\u001b[0m\u001b[0m\n\u001b[0;32m     31\u001b[0m     \u001b[1;32mfor\u001b[0m \u001b[0mi\u001b[0m \u001b[1;32min\u001b[0m \u001b[0mrange\u001b[0m\u001b[1;33m(\u001b[0m\u001b[0mtotalmodes\u001b[0m\u001b[1;33m)\u001b[0m\u001b[1;33m:\u001b[0m\u001b[1;33m\u001b[0m\u001b[1;33m\u001b[0m\u001b[0m\n",
      "\u001b[1;32m~\\AppData\\Local\\Temp\\1/ipykernel_11380/489953988.py\u001b[0m in \u001b[0;36mreal_ys\u001b[1;34m(resultdir)\u001b[0m\n\u001b[0;32m      2\u001b[0m     \u001b[0mrd\u001b[0m\u001b[1;33m=\u001b[0m\u001b[0mpathlib\u001b[0m\u001b[1;33m.\u001b[0m\u001b[0mPath\u001b[0m\u001b[1;33m(\u001b[0m\u001b[0mresult_dir\u001b[0m\u001b[1;33m)\u001b[0m\u001b[1;33m\u001b[0m\u001b[1;33m\u001b[0m\u001b[0m\n\u001b[0;32m      3\u001b[0m     \u001b[0mre_path\u001b[0m\u001b[1;33m=\u001b[0m\u001b[0mrd\u001b[0m\u001b[1;33m.\u001b[0m\u001b[0mjoinpath\u001b[0m\u001b[1;33m(\u001b[0m\u001b[1;34m\"TRUE.txt\"\u001b[0m\u001b[1;33m)\u001b[0m\u001b[1;33m\u001b[0m\u001b[1;33m\u001b[0m\u001b[0m\n\u001b[1;32m----> 4\u001b[1;33m     \u001b[0mfp\u001b[0m\u001b[1;33m=\u001b[0m\u001b[0mopen\u001b[0m\u001b[1;33m(\u001b[0m\u001b[0mre_path\u001b[0m\u001b[1;33m,\u001b[0m\u001b[1;34m\"r\"\u001b[0m\u001b[1;33m)\u001b[0m\u001b[1;33m\u001b[0m\u001b[1;33m\u001b[0m\u001b[0m\n\u001b[0m\u001b[0;32m      5\u001b[0m     \u001b[0mlines\u001b[0m\u001b[1;33m=\u001b[0m\u001b[1;33m[\u001b[0m\u001b[1;33m]\u001b[0m\u001b[1;33m\u001b[0m\u001b[1;33m\u001b[0m\u001b[0m\n\u001b[0;32m      6\u001b[0m     \u001b[0my_list\u001b[0m\u001b[1;33m=\u001b[0m\u001b[1;33m[\u001b[0m\u001b[1;33m]\u001b[0m\u001b[1;33m\u001b[0m\u001b[1;33m\u001b[0m\u001b[0m\n",
      "\u001b[1;31mFileNotFoundError\u001b[0m: [Errno 2] No such file or directory: '\\\\\\\\172.1.10.232\\\\pillref_30_result\\\\R_190_L_230\\\\TRUE.txt'"
     ]
    }
   ],
   "source": [
    "valis(result_dir,10)"
   ]
  },
  {
   "cell_type": "code",
   "execution_count": null,
   "metadata": {},
   "outputs": [],
   "source": []
  }
 ],
 "metadata": {
  "interpreter": {
   "hash": "9eee7924a8174b378023ba2911e4261d2741e2f6b701840c07d52e1758826db3"
  },
  "kernelspec": {
   "display_name": "Python 3.8.10 64-bit ('base': conda)",
   "name": "python3"
  },
  "language_info": {
   "codemirror_mode": {
    "name": "ipython",
    "version": 3
   },
   "file_extension": ".py",
   "mimetype": "text/x-python",
   "name": "python",
   "nbconvert_exporter": "python",
   "pygments_lexer": "ipython3",
   "version": "3.11.4"
  },
  "orig_nbformat": 2
 },
 "nbformat": 4,
 "nbformat_minor": 2
}
